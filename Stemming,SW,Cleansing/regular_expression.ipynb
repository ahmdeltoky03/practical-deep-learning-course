{
  "nbformat": 4,
  "nbformat_minor": 0,
  "metadata": {
    "colab": {
      "provenance": [],
      "gpuType": "T4"
    },
    "kernelspec": {
      "name": "python3",
      "display_name": "Python 3"
    },
    "language_info": {
      "name": "python"
    },
    "accelerator": "GPU"
  },
  "cells": [
    {
      "cell_type": "code",
      "source": [
        "T = '''\n",
        "Article\n",
        "Talk\n",
        "Read\n",
        "View source\n",
        "View history\n",
        "\n",
        "Tools\n",
        "This is a good article. Click here for more information.\n",
        "Extended-protected article\n",
        "Listen to this article\n",
        "From Wikipedia, the free encyclopedia\n",
        "\"Hitler\" and \"The Führer\" redirect here. For other uses, see Hitler (disambiguation) and Führer (disambiguation).\n",
        "Adolf Hitler\n",
        "Portrait of Adolf Hitler, 1938\n",
        "Official portrait, 1938\n",
        "Führer of Germany\n",
        "In office\n",
        "2 August 1934 – 30 April 1945\n",
        "Preceded by\tPaul von Hindenburg (as President)\n",
        "Succeeded by\tKarl Dönitz (as President)\n",
        "Chancellor of Germany\n",
        "In office\n",
        "30 January 1933 – 30 April 1945\n",
        "President\tPaul von Hindenburg (1933–1934)\n",
        "Vice Chancellor\tFranz von Papen (1933–1934)\n",
        "Preceded by\tKurt von Schleicher\n",
        "Succeeded by\tJoseph Goebbels\n",
        "Führer of the Nazi Party\n",
        "In office\n",
        "29 July 1921 – 30 April 1945\n",
        "Deputy\tRudolf Hess (1933–1941)\n",
        "Preceded by\tAnton Drexler (Party Chairman)\n",
        "Succeeded by\tMartin Bormann (Party Minister)\n",
        "Personal details\n",
        "Born\t20 April 1889\n",
        "Braunau am Inn, Austria-Hungary (present-day Austria)\n",
        "Died\t30 April 1945 (aged 56)\n",
        "Führerbunker, Berlin, Nazi Germany\n",
        "Cause of death\tSuicide by gunshot\n",
        "Citizenship\n",
        "Austria (until 1925)\n",
        "Stateless (1925–1932)\n",
        "Germany (from 1932)\n",
        "Political party\tNazi Party (from 1920)\n",
        "Other political\n",
        "affiliations\tGerman Workers' Party (1919–1920)\n",
        "Spouse\tEva Braun\n",
        "​\n",
        "​(m. 1945; died 1945)​\n",
        "Parents\n",
        "Alois Hitler\n",
        "Klara Pölzl\n",
        "Relatives\tHitler family\n",
        "Cabinet\tHitler cabinet\n",
        "Signature\tSignature of Adolf Hitler\n",
        "Military service\n",
        "Allegiance\n",
        "German Empire\n",
        "Weimar Republic\n",
        "Branch\n",
        "Imperial German Army\n",
        "Bavarian Army\n",
        "Reichswehr\n",
        "Years of service\t1914–1920\n",
        "Rank\tGefreiter\n",
        "Unit\t16th Bavarian Reserve Regiment\n",
        "Wars\n",
        "World War I\n",
        "Western Front\n",
        "First Battle of Ypres\n",
        "Battle of the Somme  (WIA)\n",
        "Battle of Arras\n",
        "Battle of Passchendaele\n",
        "Awards\n",
        "Iron Cross First Class\n",
        "Iron Cross Second Class\n",
        "Wound Badge\n",
        "Adolf Hitler's voice\n",
        "Duration: 16 minutes and 59 seconds.16:59\n",
        "Hitler's last recorded speech\n",
        "Recorded January 1945\n",
        "Adolf Hitler (German: [ˈaːdɔlf ˈhɪtlɐ] ⓘ; 20 April 1889 – 30 April 1945) was an Austrian-born German politician who was the dictator of Germany from 1933 until his suicide in 1945. He rose to power as the leader of the Nazi Party,[a] becoming the chancellor in 1933 and then taking the title of Führer und Reichskanzler in 1934.[b] During his dictatorship, he initiated World War II in Europe by invading Poland on 1 September 1939. He was closely involved in military operations throughout the war and was central to the perpetration of the Holocaust, the genocide of about six million Jews and millions of other victims.\n",
        "\n",
        "Hitler was born in Braunau am Inn in Austria-Hungary and was raised near Linz. He lived in Vienna later in the first decade of the 1900s before moving to Germany in 1913. He was decorated during his service in the German Army in World War I. In 1919, he joined the German Workers' Party (DAP), the precursor of the Nazi Party, and in 1921 was appointed leader of the Nazi Party. In 1923, he attempted to seize governmental power in a failed coup in Munich and was imprisoned with a sentence of five years. In prison, he dictated the first volume of his autobiography and political manifesto Mein Kampf (\"My Struggle\"). After his early release in 1924, Hitler gained popular support by attacking the Treaty of Versailles and promoting pan-Germanism, anti-Semitism and anti-communism with charismatic oratory and Nazi propaganda. He frequently denounced international capitalism and communism as part of a Jewish conspiracy.\n",
        "\n",
        "By November 1932, the Nazi Party held the most seats in the Reichstag but did not have a majority. No political parties were able to form a majority coalition in support of a candidate for chancellor. Former chancellor Franz von Papen and other conservative leaders convinced President Paul von Hindenburg to appoint Hitler as chancellor on 30 January 1933. Shortly thereafter, the Reichstag passed the Enabling Act of 1933 which began the process of transforming the Weimar Republic into Nazi Germany, a one-party dictatorship based on the totalitarian and autocratic ideology of Nazism. Upon Hindenburg’s death on 2 August 1934, Hitler succeeded him, becoming simultaneously the head of state and government with absolute power. Hitler sought to eliminate Jews from Germany and establish a New Order to counter what he saw as the injustice of the post-World War I international order dominated by France and the British Empire. His first six years in power resulted in rapid economic recovery from the Great Depression, the abrogation of restrictions imposed on Germany after World War I, and the annexation of territories inhabited by millions of ethnic Germans, which initially gave him significant popular support.\n",
        "\n",
        "One of Hitler's key goals was Lebensraum (lit. 'living space') for the German people in Eastern Europe, and his aggressive foreign policy is considered the primary cause of World War II in Europe. He directed large-scale rearmament and, on 1 September 1939, invaded Poland, resulting in Britain and France declaring war on Germany. In June 1941, Hitler ordered an invasion of the Soviet Union. In December 1941, he declared war on the United States. By the end of 1941, German forces and the European Axis powers occupied most of Europe and North Africa. These gains were gradually reversed after 1941, and in 1945 the Allied armies defeated the German army. On 29 April 1945, he married his long-term partner, Eva Braun, in the Führerbunker in Berlin. On the following day, the couple committed suicide to avoid capture by the Soviet Red Army. In accordance with Hitler's wishes, their corpses were burned.\n",
        "\n",
        "The historian and biographer Ian Kershaw describes Hitler as \"the embodiment of modern political evil\".[3] Under Hitler's leadership and racist ideology, the Nazi regime was responsible for the genocide of about six million Jews and millions of other victims, whom he and his followers deemed Untermenschen (subhumans) or socially undesirable. Hitler and the Nazi regime were also responsible for the killing of an estimated 19.3 million civilians and prisoners of war. In addition, 28.7 million soldiers and civilians died as a result of military action in the European theatre. The number of civilians killed during World War II was unprecedented in warfare, and the casualties constitute the deadliest conflict in history.\n",
        "\n",
        "أدولف هتلر\n",
        "(بالألمانية: Adolf Hitler)‏  تعديل قيمة خاصية (P1559) في ويكي بيانات\n",
        "\n",
        "مناصب\n",
        "مستشار الرايخ   تعديل قيمة خاصية (P39) في ويكي بيانات\n",
        "في المنصب\n",
        "30 يناير 1933  – 30 أبريل 1945\n",
        "كورت فون شلايشر يوزف غوبلز\n",
        "رايخسشتاتهالتر   تعديل قيمة خاصية (P39) في ويكي بيانات\n",
        "في المنصب\n",
        "30 يناير 1933  – 30 أبريل 1945\n",
        "في\tبروسيا\n",
        "رئيس ألمانيا (3 )   تعديل قيمة خاصية (P39) في ويكي بيانات\n",
        "في المنصب\n",
        "2 أغسطس 1934  – 30 أبريل 1945\n",
        "باول فون هيندنبورغ كارل دونيتز\n",
        "معلومات شخصية\n",
        "اسم الولادة\t(بالألمانية: Adolf Hitler)‏  تعديل قيمة خاصية (P1477) في ويكي بيانات\n",
        "الميلاد\t20 أبريل 1889  تعديل قيمة خاصية (P569) في ويكي بيانات\n",
        "براوناو أم إن  تعديل قيمة خاصية (P19) في ويكي بيانات\n",
        "الوفاة\t30 أبريل 1945 (56 سنة)   تعديل قيمة خاصية (P570) في ويكي بيانات\n",
        "قبو الفوهرر،  وبرلين  تعديل قيمة خاصية (P20) في ويكي بيانات\n",
        "سبب الوفاة\tانتحار\n",
        "المعمودية\t22 أبريل 1889  تعديل قيمة خاصية (P1636) في ويكي بيانات\n",
        "مكان الاعتقال\tسجن لاندسبيرج (11 نوفمبر 1923–20 ديسمبر 1924)  تعديل قيمة خاصية (P2632) في ويكي بيانات\n",
        "الإقامة\tالبرغهوف\n",
        "قبو الفوهرر\n",
        "وكر الذئب\n",
        "قلعة كرانسبرغ (11 ديسمبر 1944–16 يناير 1945)  تعديل قيمة خاصية (P551) في ويكي بيانات\n",
        "مواطنة\t سيسليثانيا (20 أبريل 1889–11 نوفمبر 1918)\n",
        " الجمهورية الألمانية النمساوية (1918–1919)\n",
        " الجمهورية النمساوية الأولى (1919–30 أبريل 1925)\n",
        " جمهورية فايمار (25 فبراير 1932–30 يناير 1933)\n",
        " ألمانيا النازية (30 يناير 1933–30 أبريل 1945)  تعديل قيمة خاصية (P27) في ويكي بيانات\n",
        "لون الشعر\tشعر بني  تعديل قيمة خاصية (P1884) في ويكي بيانات\n",
        "الطول\t174 سنتيمتر،  و175 سنتيمتر  تعديل قيمة خاصية (P2048) في ويكي بيانات\n",
        "الوزن\t72 كيلوغرام  تعديل قيمة خاصية (P2067) في ويكي بيانات\n",
        "الديانة\t- المسيحية (وفقًا لكتابه \"كفاحي\")\n",
        "- معتقدات هتلر الدينية\n",
        "عضو في\tالحزب النازي  تعديل قيمة خاصية (P463) في ويكي بيانات\n",
        "مشكلة صحية\tمرض باركنسون\n",
        "زهري  تعديل قيمة خاصية (P1050) في ويكي بيانات\n",
        "الزوجة\tإيفا براون (29 أبريل 1945–30 أبريل 1945)  تعديل قيمة خاصية (P26) في ويكي بيانات\n",
        "العشير\tماريا رايتر\n",
        "إيفا براون (–29 أبريل 1945)\n",
        "جيلي روبال  تعديل قيمة خاصية (P451) في ويكي بيانات\n",
        "عدد الأولاد\t0   تعديل قيمة خاصية (P1971) في ويكي بيانات\n",
        "الأب\tألويس هتلر  تعديل قيمة خاصية (P22) في ويكي بيانات\n",
        "الأم\tكلارا هتلر  تعديل قيمة خاصية (P25) في ويكي بيانات\n",
        "إخوة وأخوات\n",
        "إيدا هتلر  ‏،  وباولا هتلر،  وغوستاف هتلر  ‏،  وإدموند هتلر  ‏،  وأوتو هتلر  ‏،  وألويس هتلر الابن،  وأنجيلا هتلر  تعديل قيمة خاصية (P3373) في ويكي بيانات\n",
        "الحياة العملية\n",
        "المهنة\tجندي،  ورسام،  وكاتب سياسي،  وسياسي،  وآمر عسكري،  وكاتب  تعديل قيمة خاصية (P106) في ويكي بيانات\n",
        "الحزب\tحزب العمال الألماني (12 سبتمبر 1919–11 يوليو 1921)\n",
        "الحزب النازي  تعديل قيمة خاصية (P102) في ويكي بيانات\n",
        "اللغة الأم\tالألمانية  تعديل قيمة خاصية (P103) في ويكي بيانات\n",
        "اللغات\tألمانية نمساوية،  والألمانية  تعديل قيمة خاصية (P1412) في ويكي بيانات\n",
        "مجال العمل\tنازية،  والدعاية النازية،  وديكتاتورية عسكرية،  وسياسة  تعديل قيمة خاصية (P101) في ويكي بيانات\n",
        "أعمال بارزة\tكفاحي  تعديل قيمة خاصية (P800) في ويكي بيانات\n",
        "تهم\n",
        "التهم\tخيانة عظمى  تعديل قيمة خاصية (P1399) في ويكي بيانات\n",
        "الخدمة العسكرية\n",
        "الولاء\tالإمبراطورية الألمانية  تعديل قيمة خاصية (P945) في ويكي بيانات\n",
        "الفرع\tالجيش الإمبراطوري الألماني،  وفيرماخت،  والجيش البافاري،  ومشاة  تعديل قيمة خاصية (P241) في ويكي بيانات\n",
        "الرتبة\tجيفرايتر (1914–)\n",
        "جيفرايتر (1914–)  تعديل قيمة خاصية (P410) في ويكي بيانات\n",
        "القيادات\tفيرماخت  تعديل قيمة خاصية (P598) في ويكي بيانات\n",
        "المعارك والحروب\tالحرب العالمية الأولى،  والحرب العالمية الثانية،  ومعركة يبريس الأولى،  ومعركة السوم،  ومعركة أراس،  ومعركة باشنديل،  وهجوم الربيع،  ومعركة المَرْن الأولى،  وغزو بولندا  تعديل قيمة خاصية (P607) في ويكي بيانات\n",
        "الجوائز\n",
        "شخصية العام  (1938)\n",
        "المواطنة الفخرية\n",
        "المواطنة الفخرية\n",
        " الصليب الحديدي من الرتبة الأولى  ‏  (1918)\n",
        "شارة الجرح (1918)\n",
        " الصليب الحديدي من الرتبة الثانية  ‏  (1914)\n",
        " وسام الاستحقاق العسكري البافاري\n",
        " صليب الشرف في الحرب العالمية الأولي 1914/1918\n",
        " شارة الحزب الذهبية\n",
        " وسام الدم   تعديل قيمة خاصية (P166) في ويكي بيانات\n",
        "التوقيع\n",
        "\n",
        "المواقع\n",
        "IMDB\tصفحته على IMDB  تعديل قيمة خاصية (P345) في ويكي بيانات\n",
        "تعديل مصدري - تعديل طالع توثيق القالب\n",
        "أدولف هتلر (بالألمانية: Adolf Hitler) (20 أبريل 1889 - 30 أبريل 1945) هو زعيم ألمانيا النازية، ولد في الإمبراطورية النمساوية المجرية، وكان زعيم حزب العمال الألماني الاشتراكي الوطني والمعروف باسم الحزب النازي. حكم ألمانيا النازية في الفترة ما بين عامي 1933 و1945 حيث شغل منصب مستشار الدولة (بالألمانية: Reichskanzler) في الفترة ما بين عامي 1933 و1945، والفوهرر (بالألمانية: Führer) في الفترة ما بين عامي 1934 و1945. واختارته مجلة تايم واحدًا من بين مائة شخصية تركت أكبر أثر في تاريخ البشرية في القرن العشرين.\n",
        "\n",
        "وباعتباره واحدًا من المحاربين القدامى الذين تقلدوا الأوسمة تقديرًا لجهودهم في الحرب العالمية الأولى بِجانب ألمانيا، انضم هتلر إلى الحزب النازي في عام 1920 وأصبح زعيمًا له في عام 1921. وبعد سجنه إثر محاولة انقلاب فاشلة قام بها في عام 1923، استطاع هتلر أن يحصل على تأييد الجماهير بتشجيعه لأفكار تأييد القومية ومعاداة الشيوعية والكاريزما (أو الجاذبية) التي يتمتع بها في إلقاء الخطب وفي الدعاية.\n",
        "\n",
        "في عام 1933، عُيِّنَ مستشارًا للبلاد حيث عمل على إرساء دعائم نظام تحكمه نزعة شمولية وديكت\n",
        "\n",
        "\n",
        "\n",
        "\n",
        "\n",
        "সূচনা\n",
        "কৈশোর ও যৌবনকাল\n",
        "কৈশোর ও যৌবনকাল উপঅনুচ্ছেদ টগল করুন\n",
        "গ্রন্থ\n",
        "প্রথম বিশ্বযুদ্ধে যোগদান\n",
        "রাজনীতিতে প্রবেশ\n",
        "আডলফ হিটলারের যৌনজীবন\n",
        "বিয়ে\n",
        "হস্তক্ষেপ\n",
        "আরও দেখুন\n",
        "তথ্যসূত্র\n",
        "আডলফ হিটলার\n",
        "\n",
        "নিবন্ধ\n",
        "আলোচনা\n",
        "পড়ুন\n",
        "সম্পাদনা\n",
        "ইতিহাস দেখুন\n",
        "\n",
        "সরঞ্জাম\n",
        "উইকিপিডিয়া, মুক্ত বিশ্বকোষ থেকে\n",
        "আডলফ হিটলার\n",
        "\n",
        "ফিউরার\n",
        "ভাইমার প্রজাতন্ত্রের তৃতীয় রাষ্ট্রপতি\n",
        "কাজের মেয়াদ\n",
        "২রা আগস্ট, ১৯৩৪ – ৩০শে এপ্রিল, ১৯৪৫\n",
        "পূর্বসূরী\tপল ভন হিন্ডেনবার্গ\n",
        "(রাষ্ট্রপতি হিসেবে)\n",
        "উত্তরসূরী\tকার্ল ডোনিট্জ\n",
        "(রাষ্ট্রপতি হিসেবে)\n",
        "জার্মানির চ্যান্সেলর\n",
        "রাইখ্‌সকান্‌ৎলার\n",
        "কাজের মেয়াদ\n",
        "৩০শে জানুয়ারি, ১৯৩৩ – ৩০শে এপ্রিল, ১৯৪৫\n",
        "পূর্বসূরী\tপল ভন স্কেলিচার\n",
        "উত্তরসূরী\tজোসেফ গোয়েবলস\n",
        "ব্যক্তিগত বিবরণ\n",
        "জন্ম\t২০শে এপ্রিল, ১৮৮৯\n",
        "Braunau am Inn, অস্ট্রিয়া-হাঙ্গেরি\n",
        "মৃত্যু\t৩০ এপ্রিল ১৯৪৫ (বয়স ৫৬)\n",
        "বার্লিন, জার্মানি\n",
        "মৃত্যুর কারণ\tআত্মহত্যা\n",
        "নাগরিকত্ব\tঅস্ট্রীয় (১৮৮৯-১৯৩২)\n",
        "জার্মান (১৯৩২-১৯৪৫)\n",
        "জাতীয়তা\t১৯২৫ সাল পর্যন্ত অস্ট্রীয়; ১৯৩২-এর পর জার্মান\n",
        "রাজনৈতিক দল\tন্যাশনাল সোশ্যালিস্ট জার্মান ওয়ার্কার্স পার্টি (এনএসডিএপি)\n",
        "দাম্পত্য সঙ্গী\tইভা ব্রাউন\n",
        "(১৯৪৫ সালের ২৯শে এপ্রিল বিয়ে করেন)\n",
        "পেশা\tলেখক, রাজনীতিবিদ, রাষ্ট্রপ্রধান, চিত্রশিল্পী\n",
        "স্বাক্ষর\n",
        "আডলফ হিটলার ( [ˈadɔlf ˈhɪtlɐ] জার্মান ভাষায়: Adolf Hitler আডল্‌ফ্‌ হিট্‌লা) (২০শে এপ্রিল, ১৮৮৯ - ৩০শে এপ্রিল, ১৯৪৫) অস্ট্রীয় বংশোদ্ভূত জার্মান রাজনীতিবিদ যিনি ন্যাশনাল সোশ্যালিস্ট জার্মান ওয়ার্কার্স পার্টির নেতৃত্ব দিয়েছিলেন। হিটলার ১৯৩৩ থেকে ১৯৪৫ সাল পর্যন্ত জার্মানির চ্যান্সেলর এবং ১৯৩৪ থেকে ১৯৪৫ সাল পর্যন্ত সে দেশের ফিউরার ছিলেন।\n",
        "\n",
        "হিটলার প্রথম বিশ্বযুদ্ধে সৈনিক হিসেবে যোগ দিয়েছিলেন। পরবর্তীকালে ভাইমার প্রজাতন্ত্রে নাৎসি পার্টির নেতৃত্ব লাভ করেন। অভ্যুত্থান করতে গিয়ে ব্যর্থ হয়েছিলেন যে কারণে তাকে জেল খাটতে হয়েছিল। জেল থেকে ছাড়া পেয়ে মোহনীয় বক্তৃতার মাধ্যমে জাতীয়তাবাদ, ইহুদি বিদ্বেষ ও সমাজতন্ত্র বিরোধিতা ছড়াতে থাকেন। এভাবেই এক সময় জনপ্রিয় নেতায় পরিণত হন। নাৎসিরা তাদের বিরোধী পক্ষের অনেককেই হত্যা করেছিল, রাষ্ট্রের অর্থনীতিকে ঢেলে সাজিয়েছিল, সামরিক বাহিনীকে নতুন নতুন সব অস্ত্রশস্ত্রে সজ্জিত করেছিল এবং সর্বোপরি একটি সমগ্রতাবাদী ও ফ্যাসিবাদী একনায়ক\n",
        "\n",
        "\n",
        "político, militar y dictador alemán de origen austríaco.2​ Canciller imperial desde 1933 y Führer —caudillo— de Alemania desde 1934 hasta su muerte en 1945, llevó al poder al Partido Nacionalsocialista Obrero Alemán o Partido Nazi,b​ y estableció un régimen totalitario durante el período conocido como Tercer Reich o Alemania nazi.3​ Inició la Segunda Guerra Mundial al invadir Polonia el 1 de septiembre de 1939 y fue una figura clave en la perpetración del Holocausto, el genocidio de aproximadamente 11 millones de personas, entre los que se encontraban judíos, discapacitados, homosexuales, testigos de Jehová, socialistas, comunistas y gitanos.4​5​\n",
        "\n",
        "Hitler fue el escritor de al menos dos libros; Mein Kampf y Zweites Buch, el primero es en parte su autobiografía y programa de gobierno, donde muestra sus bases ideológicas por las cual llegó a ser quien fue, y el segundo profundiza más respecto a sus ideas planteadas en el primer libro. Ambos libros son considerados de filosofía política, aunque comúnmente no se le da el título de filósofo a Hitler porque sus bases filosóficas fueron desarrolladas por otros filósofos y también porque se vio influenciado por la ariosofía.6​7​\n",
        "\n",
        "Hitler se afilió en 1919 al Partido Obrero Alemán, predecesor del NSDAP, asumiendo su liderazgo definitivo en 1921. En 1923, tras el pronunciamiento en la cervecería Bürgerbräukeller de Múnich, Hitler intentó tomar el poder mediante un golpe de Estado fallido, por el que fue condenado a cinco años de prisión.8​ Durante su estancia en la cárcel, redactó la primera parte de su libro Mi lucha (en alemán, Mein Kampf), en el que expone su ideología junto con elementos autobiográficos. Liberado ocho meses después, en 1924, Hitler obtuvo creciente apoyo popular mediante la exaltación del pangermanismo o nacionalismo alemán, el antisemitismo y el anticomunismo, sirviéndose de su talento oratorio apoyado\n",
        "\n",
        "'''\n",
        "\n",
        "\n",
        "T"
      ],
      "metadata": {
        "colab": {
          "base_uri": "https://localhost:8080/",
          "height": 105
        },
        "id": "maCQGiZ4LcJ-",
        "outputId": "ff89335d-bd8d-422a-f619-0a4683697664"
      },
      "execution_count": null,
      "outputs": [
        {
          "output_type": "execute_result",
          "data": {
            "text/plain": [
              "'\\nArticle\\nTalk\\nRead\\nView source\\nView history\\n\\nTools\\nThis is a good article. Click here for more information.\\nExtended-protected article\\nListen to this article\\nFrom Wikipedia, the free encyclopedia\\n\"Hitler\" and \"The Führer\" redirect here. For other uses, see Hitler (disambiguation) and Führer (disambiguation).\\nAdolf Hitler\\nPortrait of Adolf Hitler, 1938\\nOfficial portrait, 1938\\nFührer of Germany\\nIn office\\n2 August 1934 – 30 April 1945\\nPreceded by\\tPaul von Hindenburg (as President)\\nSucceeded by\\tKarl Dönitz (as President)\\nChancellor of Germany\\nIn office\\n30 January 1933 – 30 April 1945\\nPresident\\tPaul von Hindenburg (1933–1934)\\nVice Chancellor\\tFranz von Papen (1933–1934)\\nPreceded by\\tKurt von Schleicher\\nSucceeded by\\tJoseph Goebbels\\nFührer of the Nazi Party\\nIn office\\n29 July 1921 – 30 April 1945\\nDeputy\\tRudolf Hess (1933–1941)\\nPreceded by\\tAnton Drexler (Party Chairman)\\nSucceeded by\\tMartin Bormann (Party Minister)\\nPersonal details\\nBorn\\t20 April 1889\\nBraunau am Inn, Austria-Hungary (present-day Austria)\\nDied\\t30 April 1945 (aged 56)\\nFührerbunker, Berlin, Nazi Germany\\nCause of death\\tSuicide by gunshot\\nCitizenship\\nAustria (until 1925)\\nStateless (1925–1932)\\nGermany (from 1932)\\nPolitical party\\tNazi Party (from 1920)\\nOther political\\naffiliations\\tGerman Workers\\' Party (1919–1920)\\nSpouse\\tEva Braun\\n\\u200b\\n\\u200b(m. 1945; died 1945)\\u200b\\nParents\\nAlois Hitler\\nKlara Pölzl\\nRelatives\\tHitler family\\nCabinet\\tHitler cabinet\\nSignature\\tSignature of Adolf Hitler\\nMilitary service\\nAllegiance\\nGerman Empire\\nWeimar Republic\\nBranch\\nImperial German Army\\nBavarian Army\\nReichswehr\\nYears of service\\t1914–1920\\nRank\\tGefreiter\\nUnit\\t16th Bavarian Reserve Regiment\\nWars\\nWorld War I\\nWestern Front\\nFirst Battle of Ypres\\nBattle of the Somme  (WIA)\\nBattle of Arras\\nBattle of Passchendaele\\nAwards\\nIron Cross First Class\\nIron Cross Second Class\\nWound Badge\\nAdolf Hitler\\'s voice\\nDuration: 16 minutes and 59 seconds.16:59\\nHitler\\'s last recorded speech\\nRecorded January 1945\\nAdolf Hitler (German: [ˈaːdɔlf ˈhɪtlɐ] ⓘ; 20 April 1889 – 30 April 1945) was an Austrian-born German politician who was the dictator of Germany from 1933 until his suicide in 1945. He rose to power as the leader of the Nazi Party,[a] becoming the chancellor in 1933 and then taking the title of Führer und Reichskanzler in 1934.[b] During his dictatorship, he initiated World War II in Europe by invading Poland on 1 September 1939. He was closely involved in military operations throughout the war and was central to the perpetration of the Holocaust, the genocide of about six million Jews and millions of other victims.\\n\\nHitler was born in Braunau am Inn in Austria-Hungary and was raised near Linz. He lived in Vienna later in the first decade of the 1900s before moving to Germany in 1913. He was decorated during his service in the German Army in World War I. In 1919, he joined the German Workers\\' Party (DAP), the precursor of the Nazi Party, and in 1921 was appointed leader of the Nazi Party. In 1923, he attempted to seize governmental power in a failed coup in Munich and was imprisoned with a sentence of five years. In prison, he dictated the first volume of his autobiography and political manifesto Mein Kampf (\"My Struggle\"). After his early release in 1924, Hitler gained popular support by attacking the Treaty of Versailles and promoting pan-Germanism, anti-Semitism and anti-communism with charismatic oratory and Nazi propaganda. He frequently denounced international capitalism and communism as part of a Jewish conspiracy.\\n\\nBy November 1932, the Nazi Party held the most seats in the Reichstag but did not have a majority. No political parties were able to form a majority coalition in support of a candidate for chancellor. Former chancellor Franz von Papen and other conservative leaders convinced President Paul von Hindenburg to appoint Hitler as chancellor on 30 January 1933. Shortly thereafter, the Reichstag passed the Enabling Act of 1933 which began the process of transforming the Weimar Republic into Nazi Germany, a one-party dictatorship based on the totalitarian and autocratic ideology of Nazism. Upon Hindenburg’s death on 2 August 1934, Hitler succeeded him, becoming simultaneously the head of state and government with absolute power. Hitler sought to eliminate Jews from Germany and establish a New Order to counter what he saw as the injustice of the post-World War I international order dominated by France and the British Empire. His first six years in power resulted in rapid economic recovery from the Great Depression, the abrogation of restrictions imposed on Germany after World War I, and the annexation of territories inhabited by millions of ethnic Germans, which initially gave him significant popular support.\\n\\nOne of Hitler\\'s key goals was Lebensraum (lit.\\u2009\\'living space\\') for the German people in Eastern Europe, and his aggressive foreign policy is considered the primary cause of World War II in Europe. He directed large-scale rearmament and, on 1 September 1939, invaded Poland, resulting in Britain and France declaring war on Germany. In June 1941, Hitler ordered an invasion of the Soviet Union. In December 1941, he declared war on the United States. By the end of 1941, German forces and the European Axis powers occupied most of Europe and North Africa. These gains were gradually reversed after 1941, and in 1945 the Allied armies defeated the German army. On 29 April 1945, he married his long-term partner, Eva Braun, in the Führerbunker in Berlin. On the following day, the couple committed suicide to avoid capture by the Soviet Red Army. In accordance with Hitler\\'s wishes, their corpses were burned.\\n\\nThe historian and biographer Ian Kershaw describes Hitler as \"the embodiment of modern political evil\".[3] Under Hitler\\'s leadership and racist ideology, the Nazi regime was responsible for the genocide of about six million Jews and millions of other victims, whom he and his followers deemed Untermenschen (subhumans) or socially undesirable. Hitler and the Nazi regime were also responsible for the killing of an estimated 19.3 million civilians and prisoners of war. In addition, 28.7 million soldiers and civilians died as a result of military action in the European theatre. The number of civilians killed during World War II was unprecedented in warfare, and the casualties constitute the deadliest conflict in history.\\n\\nأدولف هتلر\\n(بالألمانية: Adolf Hitler)\\u200f  تعديل قيمة خاصية (P1559) في ويكي بيانات\\n\\nمناصب\\nمستشار الرايخ   تعديل قيمة خاصية (P39) في ويكي بيانات\\nفي المنصب\\n30 يناير 1933  – 30 أبريل 1945\\nكورت فون شلايشر يوزف غوبلز\\nرايخسشتاتهالتر   تعديل قيمة خاصية (P39) في ويكي بيانات\\nفي المنصب\\n30 يناير 1933  – 30 أبريل 1945\\nفي\\tبروسيا\\nرئيس ألمانيا (3 )   تعديل قيمة خاصية (P39) في ويكي بيانات\\nفي المنصب\\n2 أغسطس 1934  – 30 أبريل 1945\\nباول فون هيندنبورغ كارل دونيتز\\nمعلومات شخصية\\nاسم الولادة\\t(بالألمانية: Adolf Hitler)\\u200f  تعديل قيمة خاصية (P1477) في ويكي بيانات\\nالميلاد\\t20 أبريل 1889  تعديل قيمة خاصية (P569) في ويكي بيانات\\nبراوناو أم إن  تعديل قيمة خاصية (P19) في ويكي بيانات\\nالوفاة\\t30 أبريل 1945 (56 سنة)   تعديل قيمة خاصية (P570) في ويكي بيانات\\nقبو الفوهرر،  وبرلين  تعديل قيمة خاصية (P20) في ويكي بيانات\\nسبب الوفاة\\tانتحار\\nالمعمودية\\t22 أبريل 1889  تعديل قيمة خاصية (P1636) في ويكي بيانات\\nمكان الاعتقال\\tسجن لاندسبيرج (11 نوفمبر 1923–20 ديسمبر 1924)  تعديل قيمة خاصية (P2632) في ويكي بيانات\\nالإقامة\\tالبرغهوف\\nقبو الفوهرر\\nوكر الذئب\\nقلعة كرانسبرغ (11 ديسمبر 1944–16 يناير 1945)  تعديل قيمة خاصية (P551) في ويكي بيانات\\nمواطنة\\t سيسليثانيا (20 أبريل 1889–11 نوفمبر 1918)\\n الجمهورية الألمانية النمساوية (1918–1919)\\n الجمهورية النمساوية الأولى (1919–30 أبريل 1925)\\n جمهورية فايمار (25 فبراير 1932–30 يناير 1933)\\n ألمانيا النازية (30 يناير 1933–30 أبريل 1945)  تعديل قيمة خاصية (P27) في ويكي بيانات\\nلون الشعر\\tشعر بني  تعديل قيمة خاصية (P1884) في ويكي بيانات\\nالطول\\t174 سنتيمتر،  و175 سنتيمتر  تعديل قيمة خاصية (P2048) في ويكي بيانات\\nالوزن\\t72 كيلوغرام  تعديل قيمة خاصية (P2067) في ويكي بيانات\\nالديانة\\t- المسيحية (وفقًا لكتابه \"كفاحي\")\\n- معتقدات هتلر الدينية\\nعضو في\\tالحزب النازي  تعديل قيمة خاصية (P463) في ويكي بيانات\\nمشكلة صحية\\tمرض باركنسون\\nزهري  تعديل قيمة خاصية (P1050) في ويكي بيانات\\nالزوجة\\tإيفا براون (29 أبريل 1945–30 أبريل 1945)  تعديل قيمة خاصية (P26) في ويكي بيانات\\nالعشير\\tماريا رايتر\\nإيفا براون (–29 أبريل 1945)\\nجيلي روبال  تعديل قيمة خاصية (P451) في ويكي بيانات\\nعدد الأولاد\\t0   تعديل قيمة خاصية (P1971) في ويكي بيانات\\nالأب\\tألويس هتلر  تعديل قيمة خاصية (P22) في ويكي بيانات\\nالأم\\tكلارا هتلر  تعديل قيمة خاصية (P25) في ويكي بيانات\\nإخوة وأخوات\\nإيدا هتلر  \\u200f،  وباولا هتلر،  وغوستاف هتلر  \\u200f،  وإدموند هتلر  \\u200f،  وأوتو هتلر  \\u200f،  وألويس هتلر الابن،  وأنجيلا هتلر  تعديل قيمة خاصية (P3373) في ويكي بيانات\\nالحياة العملية\\nالمهنة\\tجندي،  ورسام،  وكاتب سياسي،  وسياسي،  وآمر عسكري،  وكاتب  تعديل قيمة خاصية (P106) في ويكي بيانات\\nالحزب\\tحزب العمال الألماني (12 سبتمبر 1919–11 يوليو 1921)\\nالحزب النازي  تعديل قيمة خاصية (P102) في ويكي بيانات\\nاللغة الأم\\tالألمانية  تعديل قيمة خاصية (P103) في ويكي بيانات\\nاللغات\\tألمانية نمساوية،  والألمانية  تعديل قيمة خاصية (P1412) في ويكي بيانات\\nمجال العمل\\tنازية،  والدعاية النازية،  وديكتاتورية عسكرية،  وسياسة  تعديل قيمة خاصية (P101) في ويكي بيانات\\nأعمال بارزة\\tكفاحي  تعديل قيمة خاصية (P800) في ويكي بيانات\\nتهم\\nالتهم\\tخيانة عظمى  تعديل قيمة خاصية (P1399) في ويكي بيانات\\nالخدمة العسكرية\\nالولاء\\tالإمبراطورية الألمانية  تعديل قيمة خاصية (P945) في ويكي بيانات\\nالفرع\\tالجيش الإمبراطوري الألماني،  وفيرماخت،  والجيش البافاري،  ومشاة  تعديل قيمة خاصية (P241) في ويكي بيانات\\nالرتبة\\tجيفرايتر (1914–)\\nجيفرايتر (1914–)  تعديل قيمة خاصية (P410) في ويكي بيانات\\nالقيادات\\tفيرماخت  تعديل قيمة خاصية (P598) في ويكي بيانات\\nالمعارك والحروب\\tالحرب العالمية الأولى،  والحرب العالمية الثانية،  ومعركة يبريس الأولى،  ومعركة السوم،  ومعركة أراس،  ومعركة باشنديل،  وهجوم الربيع،  ومعركة المَرْن الأولى،  وغزو بولندا  تعديل قيمة خاصية (P607) في ويكي بيانات\\nالجوائز\\nشخصية العام  (1938)\\nالمواطنة الفخرية\\nالمواطنة الفخرية\\n الصليب الحديدي من الرتبة الأولى  \\u200f  (1918)\\nشارة الجرح (1918)\\n الصليب الحديدي من الرتبة الثانية  \\u200f  (1914)\\n وسام الاستحقاق العسكري البافاري\\n صليب الشرف في الحرب العالمية الأولي 1914/1918\\n شارة الحزب الذهبية\\n وسام الدم   تعديل قيمة خاصية (P166) في ويكي بيانات\\nالتوقيع\\n\\nالمواقع\\nIMDB\\tصفحته على IMDB  تعديل قيمة خاصية (P345) في ويكي بيانات\\nتعديل مصدري - تعديل طالع توثيق القالب\\nأدولف هتلر (بالألمانية: Adolf Hitler) (20 أبريل 1889 - 30 أبريل 1945) هو زعيم ألمانيا النازية، ولد في الإمبراطورية النمساوية المجرية، وكان زعيم حزب العمال الألماني الاشتراكي الوطني والمعروف باسم الحزب النازي. حكم ألمانيا النازية في الفترة ما بين عامي 1933 و1945 حيث شغل منصب مستشار الدولة (بالألمانية: Reichskanzler) في الفترة ما بين عامي 1933 و1945، والفوهرر (بالألمانية: Führer) في الفترة ما بين عامي 1934 و1945. واختارته مجلة تايم واحدًا من بين مائة شخصية تركت أكبر أثر في تاريخ البشرية في القرن العشرين.\\n\\nوباعتباره واحدًا من المحاربين القدامى الذين تقلدوا الأوسمة تقديرًا لجهودهم في الحرب العالمية الأولى بِجانب ألمانيا، انضم هتلر إلى الحزب النازي في عام 1920 وأصبح زعيمًا له في عام 1921. وبعد سجنه إثر محاولة انقلاب فاشلة قام بها في عام 1923، استطاع هتلر أن يحصل على تأييد الجماهير بتشجيعه لأفكار تأييد القومية ومعاداة الشيوعية والكاريزما (أو الجاذبية) التي يتمتع بها في إلقاء الخطب وفي الدعاية.\\n\\nفي عام 1933، عُيِّنَ مستشارًا للبلاد حيث عمل على إرساء دعائم نظام تحكمه نزعة شمولية وديكت\\n\\n\\n\\n\\n\\nসূচনা\\nকৈশোর ও যৌবনকাল\\nকৈশোর ও যৌবনকাল উপঅনুচ্ছেদ টগল করুন\\nগ্রন্থ\\nপ্রথম বিশ্বযুদ্ধে যোগদান\\nরাজনীতিতে প্রবেশ\\nআডলফ হিটলারের যৌনজীবন\\nবিয়ে\\nহস্তক্ষেপ\\nআরও দেখুন\\nতথ্যসূত্র\\nআডলফ হিটলার\\n\\nনিবন্ধ\\nআলোচনা\\nপড়ুন\\nসম্পাদনা\\nইতিহাস দেখুন\\n\\nসরঞ্জাম\\nউইকিপিডিয়া, মুক্ত বিশ্বকোষ থেকে\\nআডলফ হিটলার\\n\\nফিউরার\\nভাইমার প্রজাতন্ত্রের তৃতীয় রাষ্ট্রপতি\\nকাজের মেয়াদ\\n২রা আগস্ট, ১৯৩৪ – ৩০শে এপ্রিল, ১৯৪৫\\nপূর্বসূরী\\tপল ভন হিন্ডেনবার্গ\\n(রাষ্ট্রপতি হিসেবে)\\nউত্তরসূরী\\tকার্ল ডোনিট্জ\\n(রাষ্ট্রপতি হিসেবে)\\nজার্মানির চ্যান্সেলর\\nরাইখ্\\u200cসকান্\\u200cৎলার\\nকাজের মেয়াদ\\n৩০শে জানুয়ারি, ১৯৩৩ – ৩০শে এপ্রিল, ১৯৪৫\\nপূর্বসূরী\\tপল ভন স্কেলিচার\\nউত্তরসূরী\\tজোসেফ গোয়েবলস\\nব্যক্তিগত বিবরণ\\nজন্ম\\t২০শে এপ্রিল, ১৮৮৯\\nBraunau am Inn, অস্ট্রিয়া-হাঙ্গেরি\\nমৃত্যু\\t৩০ এপ্রিল ১৯৪৫ (বয়স ৫৬)\\nবার্লিন, জার্মানি\\nমৃত্যুর কারণ\\tআত্মহত্যা\\nনাগরিকত্ব\\tঅস্ট্রীয় (১৮৮৯-১৯৩২)\\nজার্মান (১৯৩২-১৯৪৫)\\nজাতীয়তা\\t১৯২৫ সাল পর্যন্ত অস্ট্রীয়; ১৯৩২-এর পর জার্মান\\nরাজনৈতিক দল\\tন্যাশনাল সোশ্যালিস্ট জার্মান ওয়ার্কার্স পার্টি (এনএসডিএপি)\\nদাম্পত্য সঙ্গী\\tইভা ব্রাউন\\n(১৯৪৫ সালের ২৯শে এপ্রিল বিয়ে করেন)\\nপেশা\\tলেখক, রাজনীতিবিদ, রাষ্ট্রপ্রধান, চিত্রশিল্পী\\nস্বাক্ষর\\nআডলফ হিটলার ( [ˈadɔlf ˈhɪtlɐ] জার্মান ভাষায়: Adolf Hitler আডল্\\u200cফ্\\u200c হিট্\\u200cলা) (২০শে এপ্রিল, ১৮৮৯ - ৩০শে এপ্রিল, ১৯৪৫) অস্ট্রীয় বংশোদ্ভূত জার্মান রাজনীতিবিদ যিনি ন্যাশনাল সোশ্যালিস্ট জার্মান ওয়ার্কার্স পার্টির নেতৃত্ব দিয়েছিলেন। হিটলার ১৯৩৩ থেকে ১৯৪৫ সাল পর্যন্ত জার্মানির চ্যান্সেলর এবং ১৯৩৪ থেকে ১৯৪৫ সাল পর্যন্ত সে দেশের ফিউরার ছিলেন।\\n\\nহিটলার প্রথম বিশ্বযুদ্ধে সৈনিক হিসেবে যোগ দিয়েছিলেন। পরবর্তীকালে ভাইমার প্রজাতন্ত্রে নাৎসি পার্টির নেতৃত্ব লাভ করেন। অভ্যুত্থান করতে গিয়ে ব্যর্থ হয়েছিলেন যে কারণে তাকে জেল খাটতে হয়েছিল। জেল থেকে ছাড়া পেয়ে মোহনীয় বক্তৃতার মাধ্যমে জাতীয়তাবাদ, ইহুদি বিদ্বেষ ও সমাজতন্ত্র বিরোধিতা ছড়াতে থাকেন। এভাবেই এক সময় জনপ্রিয় নেতায় পরিণত হন। নাৎসিরা তাদের বিরোধী পক্ষের অনেককেই হত্যা করেছিল, রাষ্ট্রের অর্থনীতিকে ঢেলে সাজিয়েছিল, সামরিক বাহিনীকে নতুন নতুন সব অস্ত্রশস্ত্রে সজ্জিত করেছিল এবং সর্বোপরি একটি সমগ্রতাবাদী ও ফ্যাসিবাদী একনায়ক\\n\\n\\npolítico, militar y dictador alemán de origen austríaco.2\\u200b Canciller imperial desde 1933 y Führer —caudillo— de Alemania desde 1934 hasta su muerte en 1945, llevó al poder al Partido Nacionalsocialista Obrero Alemán o Partido Nazi,b\\u200b y estableció un régimen totalitario durante el período conocido como Tercer Reich o Alemania nazi.3\\u200b Inició la Segunda Guerra Mundial al invadir Polonia el 1 de septiembre de 1939 y fue una figura clave en la perpetración del Holocausto, el genocidio de aproximadamente 11 millones de personas, entre los que se encontraban judíos, discapacitados, homosexuales, testigos de Jehová, socialistas, comunistas y gitanos.4\\u200b5\\u200b\\n\\nHitler fue el escritor de al menos dos libros; Mein Kampf y Zweites Buch, el primero es en parte su autobiografía y programa de gobierno, donde muestra sus bases ideológicas por las cual llegó a ser quien fue, y el segundo profundiza más respecto a sus ideas planteadas en el primer libro. Ambos libros son considerados de filosofía política, aunque comúnmente no se le da el título de filósofo a Hitler porque sus bases filosóficas fueron desarrolladas por otros filósofos y también porque se vio influenciado por la ariosofía.6\\u200b7\\u200b\\n\\nHitler se afilió en 1919 al Partido Obrero Alemán, predecesor del NSDAP, asumiendo su liderazgo definitivo en 1921. En 1923, tras el pronunciamiento en la cervecería Bürgerbräukeller de Múnich, Hitler intentó tomar el poder mediante un golpe de Estado fallido, por el que fue condenado a cinco años de prisión.8\\u200b Durante su estancia en la cárcel, redactó la primera parte de su libro Mi lucha (en alemán, Mein Kampf), en el que expone su ideología junto con elementos autobiográficos. Liberado ocho meses después, en 1924, Hitler obtuvo creciente apoyo popular mediante la exaltación del pangermanismo o nacionalismo alemán, el antisemitismo y el anticomunismo, sirviéndose de su talento oratorio apoyado\\n\\n'"
            ],
            "application/vnd.google.colaboratory.intrinsic+json": {
              "type": "string"
            }
          },
          "metadata": {},
          "execution_count": 1
        }
      ]
    },
    {
      "cell_type": "code",
      "source": [
        "len(T)"
      ],
      "metadata": {
        "colab": {
          "base_uri": "https://localhost:8080/"
        },
        "id": "baK4bnVRLcEd",
        "outputId": "fe951043-2df4-42c2-979c-09661f46884d"
      },
      "execution_count": null,
      "outputs": [
        {
          "output_type": "execute_result",
          "data": {
            "text/plain": [
              "15041"
            ]
          },
          "metadata": {},
          "execution_count": 52
        }
      ]
    },
    {
      "cell_type": "code",
      "source": [
        "len(T.split())"
      ],
      "metadata": {
        "colab": {
          "base_uri": "https://localhost:8080/"
        },
        "id": "HXsqfmCaLcBN",
        "outputId": "1339785a-a03d-41ab-e792-8d63ab03efe7"
      },
      "execution_count": null,
      "outputs": [
        {
          "output_type": "execute_result",
          "data": {
            "text/plain": [
              "2344"
            ]
          },
          "metadata": {},
          "execution_count": 53
        }
      ]
    },
    {
      "cell_type": "code",
      "source": [
        "print(set(T))"
      ],
      "metadata": {
        "colab": {
          "base_uri": "https://localhost:8080/"
        },
        "id": "dnV18jmeLb9L",
        "outputId": "0477a4f8-c718-40eb-cd5f-93cbeb787b6d"
      },
      "execution_count": null,
      "outputs": [
        {
          "output_type": "stream",
          "name": "stdout",
          "text": [
            "{'ْ', 'ل', '০', 'W', 'ض', 'ي', '–', 'ষ', 'ল', 'ৎ', 'ৌ', '\\n', 'ক', 'অ', 'ك', 'ো', 'و', '4', 'শ', 'ি', 'ب', 'P', 'ص', 'e', 'ɔ', '(', '৬', ' ', 'v', '-', 'b', 'D', 'র', 'ة', 'উ', 'দ', 'খ', 'H', '6', 'ح', 'ء', 'ত', 'স', 'م', 'ى', 'চ', 'ড', '—', 'r', 'T', '।', 'p', 'ن', 'ñ', 'd', '/', 'ট', 'ش', '\"', 'O', 'o', 'B', 'د', '৫', ';', 'আ', 'n', '্', 'জ', '৪', 'L', '’', 'N', 'غ', 'ا', 'ব', 'ö', 'F', 'এ', 'ে', 'c', '.', 'ɐ', 'ق', 'য', '[', 'خ', 'ⓘ', 'f', 'ئ', 'ú', 'ফ', ']', '\\u200b', 'ً', 'ম', '2', 'া', '\\u200c', 'R', 'গ', '7', 'w', 'y', 'a', 'V', 'ন', 'ظ', 'G', 'ঙ', 'হ', ':', 'ّ', 'آ', 'E', 'q', 'ধ', 'm', '৮', 'l', 'U', 'ه', 'س', 't', 'ই', 'J', 'é', 'z', 'ূ', 'K', '0', 'ও', 'ী', 'ৈ', 'Z', 'ঢ', 'S', '8', 'ছ', 'ˈ', 'ز', 'ঞ', '\\u2009', 'M', 'ُ', 'َ', 'ع', 's', 'ت', 'I', 'প', 'ث', 'ণ', 'á', 'ä', 'x', '৯', \"'\", '৩', 'থ', '২', '\\t', '\\u200f', '9', 'ج', 'ر', 'ভ', 'u', '3', 'ó', 'ü', 'i', 'أ', 'g', 'Y', '1', 'ف', 'ط', 'إ', ')', '়', ',', 'j', 'ং', 'í', 'ː', 'ু', '5', 'C', '১', 'ذ', 'ِ', 'k', 'h', '،', 'A', 'ɪ', 'ৃ'}\n"
          ]
        }
      ]
    },
    {
      "cell_type": "code",
      "source": [
        "import pandas as pd"
      ],
      "metadata": {
        "id": "Yu_DNaJ3Lb4-"
      },
      "execution_count": null,
      "outputs": []
    },
    {
      "cell_type": "code",
      "source": [
        "pd.Series([i for i in T]).value_counts()"
      ],
      "metadata": {
        "colab": {
          "base_uri": "https://localhost:8080/"
        },
        "id": "mlAmW4TrLb0a",
        "outputId": "c60abf7c-ef07-4175-d04b-641beedac217"
      },
      "execution_count": null,
      "outputs": [
        {
          "output_type": "execute_result",
          "data": {
            "text/plain": [
              "     2161\n",
              "e     753\n",
              "a     543\n",
              "i     533\n",
              "r     509\n",
              "     ... \n",
              "ُ       1\n",
              "Z       1\n",
              "ّ       1\n",
              "ä       1\n",
              "ñ       1\n",
              "Length: 198, dtype: int64"
            ]
          },
          "metadata": {},
          "execution_count": 58
        }
      ]
    },
    {
      "cell_type": "code",
      "source": [
        "CleanedT = ''.join([ i for i in T if i.lower() in '1234567890wertyuiopasdfghjklzxcvbnm '])"
      ],
      "metadata": {
        "id": "97KOpf--Lbu2"
      },
      "execution_count": null,
      "outputs": []
    },
    {
      "cell_type": "code",
      "source": [
        "CleanedT"
      ],
      "metadata": {
        "colab": {
          "base_uri": "https://localhost:8080/",
          "height": 91
        },
        "id": "CwE5xb7fND9L",
        "outputId": "806b68cd-9d99-4ab8-eabd-e2b8b5e86d40"
      },
      "execution_count": null,
      "outputs": [
        {
          "output_type": "execute_result",
          "data": {
            "text/plain": [
              "'   ArticleTalkReadView sourceView historyToolsThis is a good article Click here for more informationExtendedprotected articleListen to this articleFrom Wikipedia the free encyclopediaHitler and The Fhrer redirect here For other uses see Hitler disambiguation and Fhrer disambiguationAdolf HitlerPortrait of Adolf Hitler 1938Official portrait 1938Fhrer of GermanyIn office2 August 1934  30 April 1945Preceded byPaul von Hindenburg as PresidentSucceeded byKarl Dnitz as PresidentChancellor of GermanyIn office30 January 1933  30 April 1945PresidentPaul von Hindenburg 19331934Vice ChancellorFranz von Papen 19331934Preceded byKurt von SchleicherSucceeded byJoseph GoebbelsFhrer of the Nazi PartyIn office29 July 1921  30 April 1945DeputyRudolf Hess 19331941Preceded byAnton Drexler Party ChairmanSucceeded byMartin Bormann Party MinisterPersonal detailsBorn20 April 1889Braunau am Inn AustriaHungary presentday AustriaDied30 April 1945 aged 56Fhrerbunker Berlin Nazi GermanyCause of deathSuicide by gunshotCitizenshipAustria until 1925Stateless 19251932Germany from 1932Political partyNazi Party from 1920Other politicalaffiliationsGerman Workers Party 19191920SpouseEva Braunm 1945 died 1945ParentsAlois HitlerKlara PlzlRelativesHitler familyCabinetHitler cabinetSignatureSignature of Adolf HitlerMilitary serviceAllegianceGerman EmpireWeimar RepublicBranchImperial German ArmyBavarian ArmyReichswehrYears of service19141920RankGefreiterUnit16th Bavarian Reserve RegimentWarsWorld War IWestern FrontFirst Battle of YpresBattle of the Somme  WIABattle of ArrasBattle of PasschendaeleAwardsIron Cross First ClassIron Cross Second ClassWound BadgeAdolf Hitlers voiceDuration 16 minutes and 59 seconds1659Hitlers last recorded speechRecorded January 1945Adolf Hitler German adlf htl  20 April 1889  30 April 1945 was an Austrianborn German politician who was the dictator of Germany from 1933 until his suicide in 1945 He rose to power as the leader of the Nazi Partya becoming the chancellor in 1933 and then taking the title of Fhrer und Reichskanzler in 1934b During his dictatorship he initiated World War II in Europe by invading Poland on 1 September 1939 He was closely involved in military operations throughout the war and was central to the perpetration of the Holocaust the genocide of about six million Jews and millions of other victimsHitler was born in Braunau am Inn in AustriaHungary and was raised near Linz He lived in Vienna later in the first decade of the 1900s before moving to Germany in 1913 He was decorated during his service in the German Army in World War I In 1919 he joined the German Workers Party DAP the precursor of the Nazi Party and in 1921 was appointed leader of the Nazi Party In 1923 he attempted to seize governmental power in a failed coup in Munich and was imprisoned with a sentence of five years In prison he dictated the first volume of his autobiography and political manifesto Mein Kampf My Struggle After his early release in 1924 Hitler gained popular support by attacking the Treaty of Versailles and promoting panGermanism antiSemitism and anticommunism with charismatic oratory and Nazi propaganda He freuently denounced international capitalism and communism as part of a Jewish conspiracyBy November 1932 the Nazi Party held the most seats in the Reichstag but did not have a majority No political parties were able to form a majority coalition in support of a candidate for chancellor Former chancellor Franz von Papen and other conservative leaders convinced President Paul von Hindenburg to appoint Hitler as chancellor on 30 January 1933 Shortly thereafter the Reichstag passed the Enabling Act of 1933 which began the process of transforming the Weimar Republic into Nazi Germany a oneparty dictatorship based on the totalitarian and autocratic ideology of Nazism Upon Hindenburgs death on 2 August 1934 Hitler succeeded him becoming simultaneously the head of state and government with absolute power Hitler sought to eliminate Jews from Germany and establish a New Order to counter what he saw as the injustice of the postWorld War I international order dominated by France and the British Empire His first six years in power resulted in rapid economic recovery from the Great Depression the abrogation of restrictions imposed on Germany after World War I and the annexation of territories inhabited by millions of ethnic Germans which initially gave him significant popular supportOne of Hitlers key goals was Lebensraum litliving space for the German people in Eastern Europe and his aggressive foreign policy is considered the primary cause of World War II in Europe He directed largescale rearmament and on 1 September 1939 invaded Poland resulting in Britain and France declaring war on Germany In June 1941 Hitler ordered an invasion of the Soviet Union In December 1941 he declared war on the United States By the end of 1941 German forces and the European Axis powers occupied most of Europe and North Africa These gains were gradually reversed after 1941 and in 1945 the Allied armies defeated the German army On 29 April 1945 he married his longterm partner Eva Braun in the Fhrerbunker in Berlin On the following day the couple committed suicide to avoid capture by the Soviet Red Army In accordance with Hitlers wishes their corpses were burnedThe historian and biographer Ian Kershaw describes Hitler as the embodiment of modern political evil3 Under Hitlers leadership and racist ideology the Nazi regime was responsible for the genocide of about six million Jews and millions of other victims whom he and his followers deemed Untermenschen subhumans or socially undesirable Hitler and the Nazi regime were also responsible for the killing of an estimated 193 million civilians and prisoners of war In addition 287 million soldiers and civilians died as a result of military action in the European theatre The number of civilians killed during World War II was unprecedented in warfare and the casualties constitute the deadliest conflict in history  Adolf Hitler     P1559           P39    30  1933   30  1945            P39    30  1933   30  1945    3       P39    2  1934   30  1945         Adolf Hitler     P1477   20  1889     P569          P19   30  1945 56       P570           P20    22  1889     P1636      11  192320  1924     P2632       11  194416  1945     P551     20  188911  1918    19181919    191930  1925   25  193230  1933   30  193330  1945     P27          P1884   174   175      P2048   72      P2067                 P463          P1050     29  194530  1945     P26      29  1945      P451    0      P1971         P22         P25                                     P3373                     P106      12  191911  1921      P102         P103           P1412                 P101         P800         P1399          P945                 P241    1914 1914     P410        P598                                      P607      1938           1918  1918         1914           19141918           P166    IMDB  IMDB     P345            Adolf Hitler 20  1889  30  1945                             1933 1945       Reichskanzler      1933 1945   Fhrer      1934 1945                                        1920      1921           1923                          1933                                                             Braunau am Inn                                  adlf htl   Adolf Hitler                                                                                                                poltico militar y dictador alemn de origen austraco2 Canciller imperial desde 1933 y Fhrer caudillo de Alemania desde 1934 hasta su muerte en 1945 llev al poder al Partido Nacionalsocialista Obrero Alemn o Partido Nazib y estableci un rgimen totalitario durante el perodo conocido como Tercer Reich o Alemania nazi3 Inici la Segunda Guerra Mundial al invadir Polonia el 1 de septiembre de 1939 y fue una figura clave en la perpetracin del Holocausto el genocidio de aproximadamente 11 millones de personas entre los ue se encontraban judos discapacitados homosexuales testigos de Jehov socialistas comunistas y gitanos45Hitler fue el escritor de al menos dos libros Mein Kampf y Zweites Buch el primero es en parte su autobiografa y programa de gobierno donde muestra sus bases ideolgicas por las cual lleg a ser uien fue y el segundo profundiza ms respecto a sus ideas planteadas en el primer libro Ambos libros son considerados de filosofa poltica aunue comnmente no se le da el ttulo de filsofo a Hitler porue sus bases filosficas fueron desarrolladas por otros filsofos y tambin porue se vio influenciado por la ariosofa67Hitler se afili en 1919 al Partido Obrero Alemn predecesor del NSDAP asumiendo su liderazgo definitivo en 1921 En 1923 tras el pronunciamiento en la cervecera Brgerbrukeller de Mnich Hitler intent tomar el poder mediante un golpe de Estado fallido por el ue fue condenado a cinco aos de prisin8 Durante su estancia en la crcel redact la primera parte de su libro Mi lucha en alemn Mein Kampf en el ue expone su ideologa junto con elementos autobiogrficos Liberado ocho meses despus en 1924 Hitler obtuvo creciente apoyo popular mediante la exaltacin del pangermanismo o nacionalismo alemn el antisemitismo y el anticomunismo sirvindose de su talento oratorio apoyado'"
            ],
            "application/vnd.google.colaboratory.intrinsic+json": {
              "type": "string"
            }
          },
          "metadata": {},
          "execution_count": 66
        }
      ]
    },
    {
      "cell_type": "code",
      "source": [
        "set(CleanedT)"
      ],
      "metadata": {
        "colab": {
          "base_uri": "https://localhost:8080/"
        },
        "id": "J5pKaMRyLbll",
        "outputId": "dec3dab1-c26b-440b-d897-d0b558d140b8"
      },
      "execution_count": null,
      "outputs": [
        {
          "output_type": "execute_result",
          "data": {
            "text/plain": [
              "{' ',\n",
              " '0',\n",
              " '1',\n",
              " '2',\n",
              " '3',\n",
              " '4',\n",
              " '5',\n",
              " '6',\n",
              " '7',\n",
              " '8',\n",
              " '9',\n",
              " 'A',\n",
              " 'B',\n",
              " 'C',\n",
              " 'D',\n",
              " 'E',\n",
              " 'F',\n",
              " 'G',\n",
              " 'H',\n",
              " 'I',\n",
              " 'J',\n",
              " 'K',\n",
              " 'L',\n",
              " 'M',\n",
              " 'N',\n",
              " 'O',\n",
              " 'P',\n",
              " 'R',\n",
              " 'S',\n",
              " 'T',\n",
              " 'U',\n",
              " 'V',\n",
              " 'W',\n",
              " 'Y',\n",
              " 'Z',\n",
              " 'a',\n",
              " 'b',\n",
              " 'c',\n",
              " 'd',\n",
              " 'e',\n",
              " 'f',\n",
              " 'g',\n",
              " 'h',\n",
              " 'i',\n",
              " 'j',\n",
              " 'k',\n",
              " 'l',\n",
              " 'm',\n",
              " 'n',\n",
              " 'o',\n",
              " 'p',\n",
              " 'r',\n",
              " 's',\n",
              " 't',\n",
              " 'u',\n",
              " 'v',\n",
              " 'w',\n",
              " 'x',\n",
              " 'y',\n",
              " 'z'}"
            ]
          },
          "metadata": {},
          "execution_count": 67
        }
      ]
    },
    {
      "cell_type": "code",
      "source": [],
      "metadata": {
        "id": "0sV1q-4VNJoO"
      },
      "execution_count": null,
      "outputs": []
    },
    {
      "cell_type": "code",
      "source": [
        "CleanedT = ''.join([ i for i in T if i.lower() in 'ضصثقفغعهخحشسيبلاتنمكط\\دئءؤرلاىةوزظذ '])"
      ],
      "metadata": {
        "id": "qE4qh4UXNJyL"
      },
      "execution_count": null,
      "outputs": []
    },
    {
      "cell_type": "code",
      "source": [
        "CleanedT"
      ],
      "metadata": {
        "outputId": "ff32f9e0-8a98-46f0-eebe-f771a9939317",
        "colab": {
          "base_uri": "https://localhost:8080/",
          "height": 55
        },
        "id": "9pCwoeckNJyL"
      },
      "execution_count": null,
      "outputs": [
        {
          "output_type": "execute_result",
          "data": {
            "text/plain": [
              "'                                                                                                                                                                                                                                                                                                                                                                                                                                                                                                                                                                                                                                                                                                                                                                                                                                                                                                                                 دولف هتلرباللمانية    تعديل قيمة خاصية  في ويكي بيانات مناصبمستشار الرايخ   تعديل قيمة خاصية  في ويكي بياناتفي المنصب يناير     بريل  كورت فون شلايشر يوزف غوبلز رايخسشتاتهالتر   تعديل قيمة خاصية  في ويكي بياناتفي المنصب يناير     بريل  فيبروسيا رئيس لمانيا     تعديل قيمة خاصية  في ويكي بياناتفي المنصب غسطس     بريل  باول فون هيندنبورغ كارل دونيتز معلومات شخصيةاسم الولادةباللمانية    تعديل قيمة خاصية  في ويكي بياناتالميلاد بريل   تعديل قيمة خاصية  في ويكي بياناتبراوناو م ن  تعديل قيمة خاصية  في ويكي بياناتالوفاة بريل   سنة   تعديل قيمة خاصية  في ويكي بياناتقبو الفوهرر  وبرلين  تعديل قيمة خاصية  في ويكي بياناتسبب الوفاةانتحارالمعمودية بريل   تعديل قيمة خاصية  في ويكي بياناتمكان الاعتقالسن لاندسبير  نوفمبر  ديسمبر   تعديل قيمة خاصية  في ويكي بياناتالقامةالبرغهوفقبو الفوهرروكر الذئبقلعة كرانسبرغ  ديسمبر  يناير   تعديل قيمة خاصية  في ويكي بياناتمواطنة سيسليثانيا  بريل  نوفمبر  المهورية اللمانية النمساوية  المهورية النمساوية الولى  بريل  مهورية فايمار  فبراير  يناير  لمانيا النازية  يناير  بريل   تعديل قيمة خاصية  في ويكي بياناتلون الشعرشعر بني  تعديل قيمة خاصية  في ويكي بياناتالطول سنتيمتر  و سنتيمتر  تعديل قيمة خاصية  في ويكي بياناتالوزن كيلوغرام  تعديل قيمة خاصية  في ويكي بياناتالديانة المسيحية وفقا لكتابه كفاحي معتقدات هتلر الدينيةعضو فيالحزب النازي  تعديل قيمة خاصية  في ويكي بياناتمشكلة صحيةمرض باركنسونزهري  تعديل قيمة خاصية  في ويكي بياناتالزوةيفا براون  بريل  بريل   تعديل قيمة خاصية  في ويكي بياناتالعشيرماريا رايتريفا براون  بريل يلي روبال  تعديل قيمة خاصية  في ويكي بياناتعدد الولاد   تعديل قيمة خاصية  في ويكي بياناتالبلويس هتلر  تعديل قيمة خاصية  في ويكي بياناتالمكلارا هتلر  تعديل قيمة خاصية  في ويكي بياناتخوة وخواتيدا هتلر    وباولا هتلر  وغوستاف هتلر    ودموند هتلر    ووتو هتلر    ولويس هتلر الابن  ونيلا هتلر  تعديل قيمة خاصية  في ويكي بياناتالحياة العمليةالمهنةندي  ورسام  وكاتب سياسي  وسياسي  ومر عسكري  وكاتب  تعديل قيمة خاصية  في ويكي بياناتالحزبحزب العمال اللماني  سبتمبر  يوليو الحزب النازي  تعديل قيمة خاصية  في ويكي بياناتاللغة الماللمانية  تعديل قيمة خاصية  في ويكي بياناتاللغاتلمانية نمساوية  واللمانية  تعديل قيمة خاصية  في ويكي بياناتمال العملنازية  والدعاية النازية  وديكتاتورية عسكرية  وسياسة  تعديل قيمة خاصية  في ويكي بياناتعمال بارزةكفاحي  تعديل قيمة خاصية  في ويكي بياناتتهمالتهمخيانة عظمى  تعديل قيمة خاصية  في ويكي بياناتالخدمة العسكريةالولاءالمبراطورية اللمانية  تعديل قيمة خاصية  في ويكي بياناتالفرعاليش المبراطوري اللماني  وفيرماخت  واليش البافاري  ومشاة  تعديل قيمة خاصية  في ويكي بياناتالرتبةيفرايتر يفرايتر   تعديل قيمة خاصية  في ويكي بياناتالقياداتفيرماخت  تعديل قيمة خاصية  في ويكي بياناتالمعارك والحروبالحرب العالمية الولى  والحرب العالمية الثانية  ومعركة يبريس الولى  ومعركة السوم  ومعركة راس  ومعركة باشنديل  وهوم الربيع  ومعركة المرن الولى  وغزو بولندا  تعديل قيمة خاصية  في ويكي بياناتالوائزشخصية العام  المواطنة الفخريةالمواطنة الفخرية الصليب الحديدي من الرتبة الولى    شارة الرح  الصليب الحديدي من الرتبة الثانية     وسام الاستحقاق العسكري البافاري صليب الشرف في الحرب العالمية الولي  شارة الحزب الذهبية وسام الدم   تعديل قيمة خاصية  في ويكي بياناتالتوقيع المواقعصفحته على   تعديل قيمة خاصية  في ويكي بياناتتعديل مصدري  تعديل طالع توثيق القالبدولف هتلر باللمانية    بريل    بريل  هو زعيم لمانيا النازية ولد في المبراطورية النمساوية المرية وكان زعيم حزب العمال اللماني الاشتراكي الوطني والمعروف باسم الحزب النازي حكم لمانيا النازية في الفترة ما بين عامي  و حيث شغل منصب مستشار الدولة باللمانية  في الفترة ما بين عامي  و والفوهرر باللمانية  في الفترة ما بين عامي  و واختارته ملة تايم واحدا من بين مائة شخصية تركت كبر ثر في تاريخ البشرية في القرن العشرينوباعتباره واحدا من المحاربين القدامى الذين تقلدوا الوسمة تقديرا لهودهم في الحرب العالمية الولى بانب لمانيا انضم هتلر لى الحزب النازي في عام  وصبح زعيما له في عام  وبعد سنه ثر محاولة انقلاب فاشلة قام بها في عام  استطاع هتلر ن يحصل على تييد الماهير بتشيعه لفكار تييد القومية ومعاداة الشيوعية والكاريزما و الاذبية التي يتمتع بها في لقاء الخطب وفي الدعايةفي عام  عين مستشارا للبلاد حيث عمل على رساء دعائم نظام تحكمه نزعة شمولية وديكت                                                                                                                                                                                                                                                                                                                                                                                                                                                                                                             '"
            ],
            "application/vnd.google.colaboratory.intrinsic+json": {
              "type": "string"
            }
          },
          "metadata": {},
          "execution_count": 69
        }
      ]
    },
    {
      "cell_type": "code",
      "source": [
        "set(CleanedT)"
      ],
      "metadata": {
        "colab": {
          "base_uri": "https://localhost:8080/"
        },
        "outputId": "697259a3-56c3-4ff0-b205-ce51bfe358dc",
        "id": "-HtIOJOzNJyM"
      },
      "execution_count": null,
      "outputs": [
        {
          "output_type": "execute_result",
          "data": {
            "text/plain": [
              "{' ',\n",
              " 'ء',\n",
              " 'ئ',\n",
              " 'ا',\n",
              " 'ب',\n",
              " 'ة',\n",
              " 'ت',\n",
              " 'ث',\n",
              " 'ح',\n",
              " 'خ',\n",
              " 'د',\n",
              " 'ذ',\n",
              " 'ر',\n",
              " 'ز',\n",
              " 'س',\n",
              " 'ش',\n",
              " 'ص',\n",
              " 'ض',\n",
              " 'ط',\n",
              " 'ظ',\n",
              " 'ع',\n",
              " 'غ',\n",
              " 'ف',\n",
              " 'ق',\n",
              " 'ك',\n",
              " 'ل',\n",
              " 'م',\n",
              " 'ن',\n",
              " 'ه',\n",
              " 'و',\n",
              " 'ى',\n",
              " 'ي'}"
            ]
          },
          "metadata": {},
          "execution_count": 70
        }
      ]
    },
    {
      "cell_type": "code",
      "source": [
        "import re"
      ],
      "metadata": {
        "id": "IHkNTFhRNJl4"
      },
      "execution_count": null,
      "outputs": []
    },
    {
      "cell_type": "code",
      "source": [
        "email_text = \"Please contact us at priyanka-madiraju7445@company.com or priyanka.madiraju@company.com or on the phone number\"\n",
        "url_text = \"This is one type of url: https://www.wikipedia.com and the other url is http://www.wikipedia.com\"\n",
        "numbers_text = \"Phone Numbers are 33635353 and 9383777\"\n",
        "newline_text = \"And I in going, madam, weep o'er my father's death\\n\\n anew: but I must attend his majesty's command, to \\n whom I am now in ward, evermore in subjection.\"\n",
        "url_text_output = \"This is one type of url:       and      the other url is \"\n",
        "url_text_output = \"This is one type of url: And the other url is 341531351 زسيرةسير\"\n",
        "T = 'skldf;vsdvjk63541564654ln  محمد ذهب الي الجامعة'\n",
        "example_text = \"This word or substring can be removed but not words\"\n",
        "text = \"<p>This is a paragraph with HTML tags.</p>\"\n",
        "textt = \"My telephone number is 408-555-1234 and mohamed`s phone is 856-987-6632 \"\n",
        "\n",
        "\n",
        "print(re.sub(\"([\\w\\.\\-\\_]+@[\\w\\.\\-\\_]+)\",\"\",email_text))\n",
        "print(re.sub(\"(http\\S+)\",\"hidden link\",url_text))\n",
        "print(re.sub(\"(\\d+)\",\"hidden number\",numbers_text))\n",
        "print(re.sub(\"(\\n+)\",\"\",newline_text))\n",
        "print(re.sub(\"(\\s){2,}\",\" \",url_text_output))\n",
        "print(re.sub(\"([^a-zA-Z\\s])\",\"\",url_text_output))\n",
        "new_text = re.sub(\"([^دجحخهعغفقثصضطكمنتالبيسشظزوةىلارؤءئذ])\",\" \",T)\n",
        "print(re.sub(\"(\\s+){2,}\",\"\",new_text))\n",
        "print(new_text.strip())\n",
        "print(re.sub(\"\\bword\\b\",\"\",example_text))\n",
        "print(re.sub(\"<.*?>\",\"\",text))\n",
        "phone1 = re.search(r\"\\d\\d\\d-\\d\\d\\d-\\d\\d\\d\\d\",textt)\n",
        "phone2 = re.search(r\"\\d{3}-\\d{3}-\\d{4}\",textt)\n",
        "print(phone1.group())\n",
        "print(phone2.group())"
      ],
      "metadata": {
        "id": "KB_W_QeeNJjn",
        "outputId": "24d61d43-6ca4-473d-bea9-68a3f3f4feb3",
        "colab": {
          "base_uri": "https://localhost:8080/"
        }
      },
      "execution_count": null,
      "outputs": [
        {
          "output_type": "stream",
          "name": "stdout",
          "text": [
            "Please contact us at  or  or on the phone number\n",
            "This is one type of url: hidden link and the other url is hidden link\n",
            "Phone Numbers are hidden number and hidden number\n",
            "And I in going, madam, weep o'er my father's death anew: but I must attend his majesty's command, to  whom I am now in ward, evermore in subjection.\n",
            "This is one type of url: And the other url is 341531351 زسيرةسير\n",
            "This is one type of url And the other url is  \n",
            "محمد ذهب الي الجامعة\n",
            "محمد ذهب الي الجامعة\n",
            "This word or substring can be removed but not words\n",
            "This is a paragraph with HTML tags.\n",
            "408-555-1234\n",
            "408-555-1234\n"
          ]
        }
      ]
    },
    {
      "cell_type": "code",
      "source": [
        " re.findall(r\".at\",\"The bat went splat\")"
      ],
      "metadata": {
        "id": "ErgAyJpM0D74",
        "outputId": "02faec27-e2c3-4533-8bfa-79d1ffe386a9",
        "colab": {
          "base_uri": "https://localhost:8080/"
        }
      },
      "execution_count": null,
      "outputs": [
        {
          "output_type": "execute_result",
          "data": {
            "text/plain": [
              "['bat', 'lat']"
            ]
          },
          "metadata": {},
          "execution_count": 44
        }
      ]
    },
    {
      "cell_type": "code",
      "source": [
        " re.findall(r\"\\S+at\",\"The bat went splat\")"
      ],
      "metadata": {
        "id": "a3Pz8iaY0Wmr",
        "outputId": "172f7468-a48f-4936-8746-79c8b9911541",
        "colab": {
          "base_uri": "https://localhost:8080/"
        }
      },
      "execution_count": null,
      "outputs": [
        {
          "output_type": "execute_result",
          "data": {
            "text/plain": [
              "['bat', 'splat']"
            ]
          },
          "metadata": {},
          "execution_count": 45
        }
      ]
    },
    {
      "cell_type": "code",
      "source": [
        " re.findall(r\"...at\",\"The bat went splat\")"
      ],
      "metadata": {
        "id": "VamDGpdWIC86",
        "outputId": "176cfe9c-2ef2-4b58-fe95-4bc7be2de269",
        "colab": {
          "base_uri": "https://localhost:8080/"
        }
      },
      "execution_count": null,
      "outputs": [
        {
          "output_type": "execute_result",
          "data": {
            "text/plain": [
              "['e bat', 'splat']"
            ]
          },
          "metadata": {},
          "execution_count": 35
        }
      ]
    },
    {
      "cell_type": "code",
      "source": [
        " re.findall(\".at\",\"The bat went splat, and get hat\")"
      ],
      "metadata": {
        "id": "V_Q8xgeNIC_L",
        "outputId": "41f9e1bb-09d9-4551-8004-f670d8ba8985",
        "colab": {
          "base_uri": "https://localhost:8080/"
        }
      },
      "execution_count": null,
      "outputs": [
        {
          "output_type": "execute_result",
          "data": {
            "text/plain": [
              "['bat', 'lat', 'hat']"
            ]
          },
          "metadata": {},
          "execution_count": 31
        }
      ]
    },
    {
      "cell_type": "code",
      "source": [
        "re.findall(r\"\\d{3}-\\d{3}-\\d{4}\",textt)"
      ],
      "metadata": {
        "id": "Q_9-wyHmIDBT",
        "outputId": "d821c1d5-e8d9-4cfc-d470-006bed272d12",
        "colab": {
          "base_uri": "https://localhost:8080/"
        }
      },
      "execution_count": null,
      "outputs": [
        {
          "output_type": "execute_result",
          "data": {
            "text/plain": [
              "['408-555-1234', '856-987-6632']"
            ]
          },
          "metadata": {},
          "execution_count": 32
        }
      ]
    },
    {
      "cell_type": "code",
      "source": [
        "re.findall(r'\\S+\\d$','This ends with a number 28')"
      ],
      "metadata": {
        "id": "4REyEKM6IDDm",
        "outputId": "0932cb27-95b4-4093-cc37-522c97b41fb3",
        "colab": {
          "base_uri": "https://localhost:8080/"
        }
      },
      "execution_count": null,
      "outputs": [
        {
          "output_type": "execute_result",
          "data": {
            "text/plain": [
              "['28']"
            ]
          },
          "metadata": {},
          "execution_count": 49
        }
      ]
    },
    {
      "cell_type": "code",
      "source": [
        "re.findall(r'\\d$','This ends with a number 28')"
      ],
      "metadata": {
        "id": "bvDGCE_GIDFw",
        "outputId": "62250717-8169-4b31-bb38-4a0ae4c3eb5e",
        "colab": {
          "base_uri": "https://localhost:8080/"
        }
      },
      "execution_count": null,
      "outputs": [
        {
          "output_type": "execute_result",
          "data": {
            "text/plain": [
              "['8']"
            ]
          },
          "metadata": {},
          "execution_count": 50
        }
      ]
    },
    {
      "cell_type": "code",
      "source": [
        "re.findall(r'^\\d\\S+','244.0 This ends with a number 28')"
      ],
      "metadata": {
        "id": "ikj3Jh9pIDIR",
        "outputId": "3f0aa497-da8d-4e03-fd8f-3236ddc90b65",
        "colab": {
          "base_uri": "https://localhost:8080/"
        }
      },
      "execution_count": null,
      "outputs": [
        {
          "output_type": "execute_result",
          "data": {
            "text/plain": [
              "['244.0']"
            ]
          },
          "metadata": {},
          "execution_count": 61
        }
      ]
    },
    {
      "cell_type": "code",
      "source": [
        "test_phrase = 'This is a string! But it has punctuation. How can we remove it?'\n",
        "\" \".join(re.findall(r\"[^!.?]+\", test_phrase))"
      ],
      "metadata": {
        "id": "tb57GY4EIDLt",
        "outputId": "1806de2a-edf7-4284-b82a-ea3567bfdc2c",
        "colab": {
          "base_uri": "https://localhost:8080/",
          "height": 35
        }
      },
      "execution_count": null,
      "outputs": [
        {
          "output_type": "execute_result",
          "data": {
            "text/plain": [
              "'This is a string  But it has punctuation  How can we remove it'"
            ],
            "application/vnd.google.colaboratory.intrinsic+json": {
              "type": "string"
            }
          },
          "metadata": {},
          "execution_count": 63
        }
      ]
    },
    {
      "cell_type": "code",
      "source": [],
      "metadata": {
        "id": "gBkMHn_3NJhX"
      },
      "execution_count": null,
      "outputs": []
    },
    {
      "cell_type": "code",
      "source": [],
      "metadata": {
        "id": "mWEtfcO9LbPb"
      },
      "execution_count": null,
      "outputs": []
    },
    {
      "cell_type": "code",
      "source": [
        "test_phrase = 'This is a string! But it has punctuation. w8w-w8w How can we remove it?'\n",
        "re.findall('\\w+-\\w+',test_phrase)"
      ],
      "metadata": {
        "id": "jBbQzZiq2BFj",
        "outputId": "ae267189-6aac-4ebc-f126-2469d9deb4c1",
        "colab": {
          "base_uri": "https://localhost:8080/"
        }
      },
      "execution_count": null,
      "outputs": [
        {
          "output_type": "execute_result",
          "data": {
            "text/plain": [
              "['w8w-w8w']"
            ]
          },
          "metadata": {},
          "execution_count": 66
        }
      ]
    },
    {
      "cell_type": "code",
      "source": [],
      "metadata": {
        "id": "UfhvZpys2BH4"
      },
      "execution_count": null,
      "outputs": []
    },
    {
      "cell_type": "code",
      "source": [],
      "metadata": {
        "id": "oPCSkAQn2BJx"
      },
      "execution_count": null,
      "outputs": []
    },
    {
      "cell_type": "code",
      "source": [],
      "metadata": {
        "id": "_ulLUIRV2BMr"
      },
      "execution_count": null,
      "outputs": []
    },
    {
      "cell_type": "code",
      "execution_count": null,
      "metadata": {
        "colab": {
          "base_uri": "https://localhost:8080/"
        },
        "id": "eoA_lPDpDb8o",
        "outputId": "5fc57d5b-d8e4-45ec-a77a-882a8bd736e9"
      },
      "outputs": [
        {
          "output_type": "stream",
          "name": "stdout",
          "text": [
            "This is one type of url: HIDDEN LINK and the other url is HIDDEN LINK\n"
          ]
        }
      ],
      "source": [
        "import re\n",
        "# re.sub(pattern, replacement_text, text)\n",
        "url_text = \"This is one type of url: https://www.wikipedia.com and the other url is http://www.wikipedia.com\"\n",
        "print(re.sub(\"(http\\S+)\", \"HIDDEN LINK\", url_text))"
      ]
    },
    {
      "cell_type": "code",
      "source": [
        "email_text = \"Please contact us at priyanka-madiraju7445@company.com or priyanka.madiraju@company.com or on the phone number\"\n",
        "print(re.sub(\"([\\w\\.\\-\\_]+@[\\w\\.\\-\\_]+)\", \"\", email_text))"
      ],
      "metadata": {
        "colab": {
          "base_uri": "https://localhost:8080/"
        },
        "id": "LmGkl7NUDu63",
        "outputId": "deeaebba-47bb-4932-f569-791119a7b439"
      },
      "execution_count": null,
      "outputs": [
        {
          "output_type": "stream",
          "name": "stdout",
          "text": [
            "Please contact us at  or  or on the phone number\n"
          ]
        }
      ]
    },
    {
      "cell_type": "code",
      "source": [
        "numbers_text = \"Phone Numbers are 33635353 and 9383777\"\n",
        "print(re.sub(\"(\\d+)\", \"\", numbers_text))"
      ],
      "metadata": {
        "colab": {
          "base_uri": "https://localhost:8080/"
        },
        "id": "-OM4JPF4DxWm",
        "outputId": "ba801295-9365-4bf3-c8a0-233195d5b575"
      },
      "execution_count": null,
      "outputs": [
        {
          "output_type": "stream",
          "name": "stdout",
          "text": [
            "Phone Numbers are  and \n"
          ]
        }
      ]
    },
    {
      "cell_type": "code",
      "source": [
        "newline_text = \"And I in going, madam, weep o'er my father's death\\n\\n anew: but I must attend his majesty's command, to \\n whom I am now in ward, evermore in subjection.\"\n",
        "print(re.sub(\"(\\n+)\", \"\", newline_text))"
      ],
      "metadata": {
        "colab": {
          "base_uri": "https://localhost:8080/"
        },
        "id": "pIKNCdbkDzOG",
        "outputId": "d5869140-0130-4f1d-a4a5-94be0d2da890"
      },
      "execution_count": null,
      "outputs": [
        {
          "output_type": "stream",
          "name": "stdout",
          "text": [
            "And I in going, madam, weep o'er my father's death anew: but I must attend his majesty's command, to  whom I am now in ward, evermore in subjection.\n"
          ]
        }
      ]
    },
    {
      "cell_type": "code",
      "source": [
        "url_text_output = \"This is one type of url:  and      the other url is \"\n",
        "print(re.sub(\"(\\s){2,}\", \" \", url_text_output))"
      ],
      "metadata": {
        "colab": {
          "base_uri": "https://localhost:8080/"
        },
        "id": "WTc0zqv0D0Z1",
        "outputId": "85a4d7a2-6579-4200-c275-5e990ae9322f"
      },
      "execution_count": null,
      "outputs": [
        {
          "output_type": "stream",
          "name": "stdout",
          "text": [
            "This is one type of url: and the other url is \n"
          ]
        }
      ]
    },
    {
      "cell_type": "code",
      "source": [
        "url_text_output = \"This is one type of url: And the other url is 341531351 زسيرةسير\"\n",
        "# print(re.sub(\"([^a-zA-Z\\s])\", \"\", url_text_output))\n",
        "print(re.sub(\"([^a-z\\s])\", \"\", url_text_output))"
      ],
      "metadata": {
        "colab": {
          "base_uri": "https://localhost:8080/"
        },
        "id": "eNms_BG1D18G",
        "outputId": "e9efcbd3-22cb-441b-d4b1-b837ee3e28e2"
      },
      "execution_count": null,
      "outputs": [
        {
          "output_type": "stream",
          "name": "stdout",
          "text": [
            "his is one type of url nd the other url is  \n"
          ]
        }
      ]
    },
    {
      "cell_type": "code",
      "source": [
        "T = 'skldf;vsdvjk63541564654ln  محمد ذهب الي الجامعة'\n",
        "print(re.sub(\"([^ضصثقفغعهخحجدشسيبلاتنمكطئءؤرلاىةوزظذ\\s])\", \"\", T))\n"
      ],
      "metadata": {
        "colab": {
          "base_uri": "https://localhost:8080/"
        },
        "id": "V2tkBJ_nPyHA",
        "outputId": "7e4786c2-0b05-4ddf-cf5a-f0b57dc9f85b"
      },
      "execution_count": null,
      "outputs": [
        {
          "output_type": "stream",
          "name": "stdout",
          "text": [
            "  محمد ذهب الي الجامعة\n"
          ]
        }
      ]
    },
    {
      "cell_type": "code",
      "source": [
        "T = \"   There are some trailing and leading spaces here and there   \"\n",
        "\n",
        "T.replace(' ','')\n"
      ],
      "metadata": {
        "colab": {
          "base_uri": "https://localhost:8080/",
          "height": 36
        },
        "id": "4hhXaz_kQTVd",
        "outputId": "12d135e4-f4d5-4760-aeb5-397dbc819ffb"
      },
      "execution_count": null,
      "outputs": [
        {
          "output_type": "execute_result",
          "data": {
            "text/plain": [
              "'Therearesometrailingandleadingspaceshereandthere'"
            ],
            "application/vnd.google.colaboratory.intrinsic+json": {
              "type": "string"
            }
          },
          "metadata": {},
          "execution_count": 81
        }
      ]
    },
    {
      "cell_type": "code",
      "source": [
        "trailing_leading_text = \"   There are some trailing and leading spaces here and there   \"\n",
        "# print(trailing_leading_text.strip())\n",
        "# print(trailing_leading_text.lstrip())\n",
        "print(trailing_leading_text.rstrip())"
      ],
      "metadata": {
        "colab": {
          "base_uri": "https://localhost:8080/"
        },
        "id": "oy04WAskD3K-",
        "outputId": "da8d4de8-61f4-4f86-dcfd-f1bedfe42b71"
      },
      "execution_count": null,
      "outputs": [
        {
          "output_type": "stream",
          "name": "stdout",
          "text": [
            "   There are some trailing and leading spaces here and there\n"
          ]
        }
      ]
    },
    {
      "cell_type": "code",
      "source": [
        "example_text = \"This word or substring can be removed\"\n",
        "print(example_text.replace(\"word\", \"\"))"
      ],
      "metadata": {
        "colab": {
          "base_uri": "https://localhost:8080/"
        },
        "id": "Dk9e95CmD4KG",
        "outputId": "964157c6-78bc-41b5-dccd-74f3ced893b3"
      },
      "execution_count": null,
      "outputs": [
        {
          "output_type": "stream",
          "name": "stdout",
          "text": [
            "This  or substring can be removed\n"
          ]
        }
      ]
    },
    {
      "cell_type": "code",
      "source": [
        "example_text = \"This word or substring can be removed but not words\"\n",
        "print(example_text.replace(\"word\", \"\"))"
      ],
      "metadata": {
        "colab": {
          "base_uri": "https://localhost:8080/"
        },
        "id": "lZHw2WjWD5bd",
        "outputId": "ef775bb8-5d49-4b04-91a1-c58fcce8c8d9"
      },
      "execution_count": null,
      "outputs": [
        {
          "output_type": "stream",
          "name": "stdout",
          "text": [
            "This  or substring can be removed but not s\n"
          ]
        }
      ]
    },
    {
      "cell_type": "code",
      "source": [
        "print(re.sub(r\"(\\bword\\b)\", \"\", example_text))"
      ],
      "metadata": {
        "colab": {
          "base_uri": "https://localhost:8080/"
        },
        "id": "FjulvbGHD64e",
        "outputId": "f0332a59-de78-483a-b253-8f6bc5f6b089"
      },
      "execution_count": null,
      "outputs": [
        {
          "output_type": "stream",
          "name": "stdout",
          "text": [
            "This  or substring can be removed but not words\n"
          ]
        }
      ]
    },
    {
      "cell_type": "code",
      "source": [
        "T = 'I love hearing music and classic bands'\n",
        "\n",
        "T.replace('and','')"
      ],
      "metadata": {
        "colab": {
          "base_uri": "https://localhost:8080/",
          "height": 36
        },
        "id": "6JDavbE3Q-k-",
        "outputId": "0b9f96b0-f179-4d8e-c412-03b5014dbc58"
      },
      "execution_count": null,
      "outputs": [
        {
          "output_type": "execute_result",
          "data": {
            "text/plain": [
              "'I love hearing music  classic bs'"
            ],
            "application/vnd.google.colaboratory.intrinsic+json": {
              "type": "string"
            }
          },
          "metadata": {},
          "execution_count": 84
        }
      ]
    },
    {
      "cell_type": "code",
      "source": [
        "print(re.sub(r\"(\\band\\b)\", \"\", T))"
      ],
      "metadata": {
        "colab": {
          "base_uri": "https://localhost:8080/"
        },
        "id": "g3RrjHq8Q-if",
        "outputId": "a35a9671-c9c0-4224-d4ae-d876918d83b3"
      },
      "execution_count": null,
      "outputs": [
        {
          "output_type": "stream",
          "name": "stdout",
          "text": [
            "I love hearing music  classic bands\n"
          ]
        }
      ]
    },
    {
      "cell_type": "code",
      "source": [
        "' '.join([i for i in T.split() if  i!='and'])"
      ],
      "metadata": {
        "colab": {
          "base_uri": "https://localhost:8080/",
          "height": 36
        },
        "id": "pR8QEygcRPgW",
        "outputId": "ac4c91c4-4c99-4371-91b2-36d9975c8dfb"
      },
      "execution_count": null,
      "outputs": [
        {
          "output_type": "execute_result",
          "data": {
            "text/plain": [
              "'I love hearing music classic bands'"
            ],
            "application/vnd.google.colaboratory.intrinsic+json": {
              "type": "string"
            }
          },
          "metadata": {},
          "execution_count": 88
        }
      ]
    },
    {
      "cell_type": "code",
      "source": [],
      "metadata": {
        "id": "2kda3vW7RPdI"
      },
      "execution_count": null,
      "outputs": []
    },
    {
      "cell_type": "code",
      "source": [],
      "metadata": {
        "id": "gOv0Y2n5RPWA"
      },
      "execution_count": null,
      "outputs": []
    },
    {
      "cell_type": "code",
      "source": [],
      "metadata": {
        "id": "PJ5IOBc4EAtV"
      },
      "execution_count": null,
      "outputs": []
    },
    {
      "cell_type": "code",
      "source": [
        "# Removing HTML tags:\n",
        "import re\n",
        "text = \"<p>This is a paragraph with HTML tags.</p>\"\n",
        "clean_text = re.sub(r\"<.*?>\", \"\", text)\n",
        "print(clean_text)"
      ],
      "metadata": {
        "colab": {
          "base_uri": "https://localhost:8080/"
        },
        "id": "9Pb2hTt7EYa3",
        "outputId": "c27a3a65-c909-4bb7-b0c8-46d430d27c17"
      },
      "execution_count": null,
      "outputs": [
        {
          "output_type": "stream",
          "name": "stdout",
          "text": [
            "This is a paragraph with HTML tags.\n"
          ]
        }
      ]
    },
    {
      "cell_type": "code",
      "source": [
        "# This code will remove all HTML tags from the text and print the following output:\n",
        "\n",
        "# This is a paragraph with HTML tags.\n",
        "# Removing punctuation:\n",
        "\n",
        "import re\n",
        "text = \"This is a sentence with punctuation!???()+-*\t\t\t\t\t\t⛩️\t⛪️\t\t\t\t\tU+26Fx\t⛰️\t⛱️\t⛲️\t⛳️\t⛴️\t\"\n",
        "clean_text = re.sub(r\"[^\\w\\s]\", \"\", text)\n",
        "print(clean_text)"
      ],
      "metadata": {
        "colab": {
          "base_uri": "https://localhost:8080/"
        },
        "id": "TUxsvshtEYYH",
        "outputId": "6f395b5e-2670-43a0-e309-a9f94f8648ae"
      },
      "execution_count": null,
      "outputs": [
        {
          "output_type": "stream",
          "name": "stdout",
          "text": [
            "This is a sentence with punctuation\t\t\t\t\t\t\t\t\t\t\t\tU26Fx\t\t\t\t\t\t\n"
          ]
        }
      ]
    },
    {
      "cell_type": "code",
      "source": [
        "# This code will remove all stop words from the text and print the following output:\n",
        "\n",
        "# Converting text to lowercase:\n",
        "import re\n",
        "text = \"This Is A Sentence With Mixed Case.\"\n",
        "clean_text = re.sub(r\"[A-Z]\", lambda m: m.group(0).lower(), text)\n",
        "print(clean_text)"
      ],
      "metadata": {
        "colab": {
          "base_uri": "https://localhost:8080/"
        },
        "id": "rhf_bJccEqs8",
        "outputId": "3907aa1a-bc18-48b1-9c9a-9ebe6cb17731"
      },
      "execution_count": null,
      "outputs": [
        {
          "output_type": "stream",
          "name": "stdout",
          "text": [
            "this is a sentence with mixed case.\n"
          ]
        }
      ]
    },
    {
      "cell_type": "code",
      "source": [
        "# This code will convert all uppercase letters in the text to lowercase and print the following output:\n",
        "# this is a sentence with mixed case.\n",
        "# Removing extra whitespace:\n",
        "\n",
        "import re\n",
        "text = \" This is   a sentence  with extra whitespace. \"\n",
        "clean_text = re.sub(r\"\\s+\", \" \", text)\n",
        "print(clean_text)"
      ],
      "metadata": {
        "colab": {
          "base_uri": "https://localhost:8080/"
        },
        "id": "mq7dDF1qEy98",
        "outputId": "54ac7142-ba3b-4257-e83b-1893113415ae"
      },
      "execution_count": null,
      "outputs": [
        {
          "output_type": "stream",
          "name": "stdout",
          "text": [
            " This is a sentence with extra whitespace. \n"
          ]
        }
      ]
    },
    {
      "cell_type": "code",
      "source": [],
      "metadata": {
        "id": "P0wxUsRpE4yk"
      },
      "execution_count": null,
      "outputs": []
    },
    {
      "cell_type": "code",
      "source": [
        "text = \"My telephone number is 408-555-1234 and mohamed`s phone is 856-987-6632 \"\n",
        "phone = re.search(r'\\d\\d\\d-\\d\\d\\d-\\d\\d\\d\\d',text)\n",
        "phone.group()"
      ],
      "metadata": {
        "colab": {
          "base_uri": "https://localhost:8080/",
          "height": 36
        },
        "id": "jFJOZjhBFOMm",
        "outputId": "a6aa72e1-cd7a-4b67-9031-2b0350e2b47e"
      },
      "execution_count": null,
      "outputs": [
        {
          "output_type": "execute_result",
          "data": {
            "text/plain": [
              "'408-555-1234'"
            ],
            "application/vnd.google.colaboratory.intrinsic+json": {
              "type": "string"
            }
          },
          "metadata": {},
          "execution_count": 96
        }
      ]
    },
    {
      "cell_type": "code",
      "source": [
        "re.search(r'\\d{3}-\\d{3}-\\d{4}',text)"
      ],
      "metadata": {
        "colab": {
          "base_uri": "https://localhost:8080/"
        },
        "id": "DEi_dk_vFOJ_",
        "outputId": "e7fd52c7-ae42-481c-d5e2-32e9364b661a"
      },
      "execution_count": null,
      "outputs": [
        {
          "output_type": "execute_result",
          "data": {
            "text/plain": [
              "<re.Match object; span=(23, 35), match='408-555-1234'>"
            ]
          },
          "metadata": {},
          "execution_count": 18
        }
      ]
    },
    {
      "cell_type": "code",
      "source": [
        "phone_pattern =(r'(\\d{3})-(\\d{3})-(\\d{4})')\n",
        "results = re.search(phone_pattern,text)\n",
        "results.group()"
      ],
      "metadata": {
        "colab": {
          "base_uri": "https://localhost:8080/",
          "height": 36
        },
        "id": "VXQUhPJSFTbk",
        "outputId": "b3edde72-231a-4670-b8c1-69a563d0ea5a"
      },
      "execution_count": null,
      "outputs": [
        {
          "output_type": "execute_result",
          "data": {
            "text/plain": [
              "'408-555-1234'"
            ],
            "application/vnd.google.colaboratory.intrinsic+json": {
              "type": "string"
            }
          },
          "metadata": {},
          "execution_count": 19
        }
      ]
    },
    {
      "cell_type": "code",
      "source": [
        "results.group(1), results.group(2) , results.group(3)"
      ],
      "metadata": {
        "colab": {
          "base_uri": "https://localhost:8080/"
        },
        "id": "5f8ATYAMFU6s",
        "outputId": "0831ed92-b9bd-418d-e798-333ec9c1b53f"
      },
      "execution_count": null,
      "outputs": [
        {
          "output_type": "execute_result",
          "data": {
            "text/plain": [
              "('408', '555', '1234')"
            ]
          },
          "metadata": {},
          "execution_count": 20
        }
      ]
    },
    {
      "cell_type": "code",
      "source": [
        "results.group(4)"
      ],
      "metadata": {
        "colab": {
          "base_uri": "https://localhost:8080/",
          "height": 182
        },
        "id": "1-1VFO8eFWir",
        "outputId": "30246cac-8c74-4443-f313-60d42fb013f6"
      },
      "execution_count": null,
      "outputs": [
        {
          "output_type": "error",
          "ename": "IndexError",
          "evalue": "ignored",
          "traceback": [
            "\u001b[0;31m---------------------------------------------------------------------------\u001b[0m",
            "\u001b[0;31mIndexError\u001b[0m                                Traceback (most recent call last)",
            "\u001b[0;32m<ipython-input-21-33984beeecd9>\u001b[0m in \u001b[0;36m<cell line: 1>\u001b[0;34m()\u001b[0m\n\u001b[0;32m----> 1\u001b[0;31m \u001b[0mresults\u001b[0m\u001b[0;34m.\u001b[0m\u001b[0mgroup\u001b[0m\u001b[0;34m(\u001b[0m\u001b[0;36m4\u001b[0m\u001b[0;34m)\u001b[0m\u001b[0;34m\u001b[0m\u001b[0;34m\u001b[0m\u001b[0m\n\u001b[0m",
            "\u001b[0;31mIndexError\u001b[0m: no such group"
          ]
        }
      ]
    },
    {
      "cell_type": "code",
      "source": [
        "re.search(r\"man|woman\",\"This man was here.\")"
      ],
      "metadata": {
        "colab": {
          "base_uri": "https://localhost:8080/"
        },
        "id": "vlokxLbhFX5U",
        "outputId": "46ac505a-3302-43e4-b930-c0e027f660ff"
      },
      "execution_count": null,
      "outputs": [
        {
          "output_type": "execute_result",
          "data": {
            "text/plain": [
              "<re.Match object; span=(5, 8), match='man'>"
            ]
          },
          "metadata": {},
          "execution_count": 22
        }
      ]
    },
    {
      "cell_type": "code",
      "source": [
        "re.search(r\"man|woman\",\"This woman was here.\")"
      ],
      "metadata": {
        "colab": {
          "base_uri": "https://localhost:8080/"
        },
        "id": "NN2BpTHiFanM",
        "outputId": "9dfa37b8-2735-4eb4-a407-d2b8be5eb178"
      },
      "execution_count": null,
      "outputs": [
        {
          "output_type": "execute_result",
          "data": {
            "text/plain": [
              "<re.Match object; span=(5, 10), match='woman'>"
            ]
          },
          "metadata": {},
          "execution_count": 23
        }
      ]
    },
    {
      "cell_type": "code",
      "source": [
        "re.findall(r\".at\",\"The cat in the hat sat here.\")"
      ],
      "metadata": {
        "colab": {
          "base_uri": "https://localhost:8080/"
        },
        "id": "U2Eo3tdNFb7U",
        "outputId": "8a155e6f-43ea-4ca3-ff95-be296948d50b"
      },
      "execution_count": null,
      "outputs": [
        {
          "output_type": "execute_result",
          "data": {
            "text/plain": [
              "['cat', 'hat', 'sat']"
            ]
          },
          "metadata": {},
          "execution_count": 24
        }
      ]
    },
    {
      "cell_type": "code",
      "source": [
        "re.findall(r\".at\",\"The bat went splat\")"
      ],
      "metadata": {
        "colab": {
          "base_uri": "https://localhost:8080/"
        },
        "id": "mh33DYS2Fdg0",
        "outputId": "82c08bc5-bc52-4ba6-e154-24c4321cf771"
      },
      "execution_count": null,
      "outputs": [
        {
          "output_type": "execute_result",
          "data": {
            "text/plain": [
              "['bat', 'lat']"
            ]
          },
          "metadata": {},
          "execution_count": 25
        }
      ]
    },
    {
      "cell_type": "code",
      "source": [
        "re.findall(r\"...at\",\"The bat went splat\")"
      ],
      "metadata": {
        "colab": {
          "base_uri": "https://localhost:8080/"
        },
        "id": "z7O0Of1BFepz",
        "outputId": "ccadf938-9735-47c5-985a-e9b2a43e05fc"
      },
      "execution_count": null,
      "outputs": [
        {
          "output_type": "execute_result",
          "data": {
            "text/plain": [
              "['e bat', 'splat']"
            ]
          },
          "metadata": {},
          "execution_count": 26
        }
      ]
    },
    {
      "cell_type": "code",
      "source": [
        "re.findall(r'\\S+at',\"The bat went splat *plat\")"
      ],
      "metadata": {
        "colab": {
          "base_uri": "https://localhost:8080/"
        },
        "id": "Tsqo-8YUFfy7",
        "outputId": "69999b99-2793-4048-c0d0-59c0bab3699d"
      },
      "execution_count": null,
      "outputs": [
        {
          "output_type": "execute_result",
          "data": {
            "text/plain": [
              "['bat', 'splat', '*plat']"
            ]
          },
          "metadata": {},
          "execution_count": 27
        }
      ]
    },
    {
      "cell_type": "code",
      "source": [
        "re.findall(r'\\d$','This ends with a number 28')"
      ],
      "metadata": {
        "colab": {
          "base_uri": "https://localhost:8080/"
        },
        "id": "7XpxTAoIFg6E",
        "outputId": "d565487b-1d6f-4b21-fe05-389c0a0f7ff2"
      },
      "execution_count": null,
      "outputs": [
        {
          "output_type": "execute_result",
          "data": {
            "text/plain": [
              "['8']"
            ]
          },
          "metadata": {},
          "execution_count": 48
        }
      ]
    },
    {
      "cell_type": "code",
      "source": [
        "''.join(re.findall(r'[^\\d]','1 is the loneliest number.'))"
      ],
      "metadata": {
        "colab": {
          "base_uri": "https://localhost:8080/",
          "height": 36
        },
        "id": "WNZdzB0yFiDz",
        "outputId": "137f292b-612a-4a9e-986a-ecf5cb3ccaf4"
      },
      "execution_count": null,
      "outputs": [
        {
          "output_type": "execute_result",
          "data": {
            "text/plain": [
              "' is the loneliest number.'"
            ],
            "application/vnd.google.colaboratory.intrinsic+json": {
              "type": "string"
            }
          },
          "metadata": {},
          "execution_count": 97
        }
      ]
    },
    {
      "cell_type": "code",
      "source": [
        "re.findall(r'^\\d','1 is the loneliest number.')"
      ],
      "metadata": {
        "colab": {
          "base_uri": "https://localhost:8080/"
        },
        "id": "SezskKdNFjJj",
        "outputId": "f1219c6c-768d-47f7-a31f-4f5e0ae1b997"
      },
      "execution_count": null,
      "outputs": [
        {
          "output_type": "execute_result",
          "data": {
            "text/plain": [
              "['1']"
            ]
          },
          "metadata": {},
          "execution_count": 30
        }
      ]
    },
    {
      "cell_type": "code",
      "source": [
        "phrase = \"there are 3 numbers 34 inside 5 this sentence.\"\n",
        "re.findall(r'[^\\d]+',phrase)"
      ],
      "metadata": {
        "colab": {
          "base_uri": "https://localhost:8080/"
        },
        "id": "ZpXmf23yFkfj",
        "outputId": "eef22769-1e4c-4dc1-e829-d197ec7a7011"
      },
      "execution_count": null,
      "outputs": [
        {
          "output_type": "execute_result",
          "data": {
            "text/plain": [
              "['there are ', ' numbers ', ' inside ', ' this sentence.']"
            ]
          },
          "metadata": {},
          "execution_count": 31
        }
      ]
    },
    {
      "cell_type": "code",
      "source": [
        "test_phrase = 'This is a string! But it has punctuation. How can we remove it?'\n",
        "re.findall('[^!.? ]+',test_phrase)"
      ],
      "metadata": {
        "colab": {
          "base_uri": "https://localhost:8080/"
        },
        "id": "YzuxfCxJFllU",
        "outputId": "3bd5e2d4-acf1-4abf-d98b-a66047b3e0ef"
      },
      "execution_count": null,
      "outputs": [
        {
          "output_type": "execute_result",
          "data": {
            "text/plain": [
              "['This',\n",
              " 'is',\n",
              " 'a',\n",
              " 'string',\n",
              " 'But',\n",
              " 'it',\n",
              " 'has',\n",
              " 'punctuation',\n",
              " 'How',\n",
              " 'can',\n",
              " 'we',\n",
              " 'remove',\n",
              " 'it']"
            ]
          },
          "metadata": {},
          "execution_count": 32
        }
      ]
    },
    {
      "cell_type": "code",
      "source": [
        "clean = ' '.join(re.findall('[^!.? ]+',test_phrase))\n",
        "print(clean)"
      ],
      "metadata": {
        "colab": {
          "base_uri": "https://localhost:8080/"
        },
        "id": "L-you5euFml7",
        "outputId": "f3c53424-412f-46a4-a149-01ab7836629f"
      },
      "execution_count": null,
      "outputs": [
        {
          "output_type": "stream",
          "name": "stdout",
          "text": [
            "This is a string But it has punctuation How can we remove it\n"
          ]
        }
      ]
    },
    {
      "cell_type": "code",
      "source": [
        "text = 'Only find the hypen-words in this sentence. But you do not know how long-ish they are'\n",
        "\n",
        "re.findall(r'[\\w]+-[\\w]+',text)"
      ],
      "metadata": {
        "colab": {
          "base_uri": "https://localhost:8080/"
        },
        "id": "1BYCVMMxFn5b",
        "outputId": "9dcdcc70-300e-4956-b481-6744f485e5a4"
      },
      "execution_count": null,
      "outputs": [
        {
          "output_type": "execute_result",
          "data": {
            "text/plain": [
              "['hypen-words', 'long-ish']"
            ]
          },
          "metadata": {},
          "execution_count": 34
        }
      ]
    },
    {
      "cell_type": "code",
      "source": [
        "text = 'رقم هاتفي هو 586-986-9965   و  رقم هاتف محمد  هو 826-476-9785   و رقم هاتف مشيرة هو 186-006-6855'\n",
        "phone = re.search(r'\\d\\d\\d-\\d\\d\\d-\\d\\d\\d\\d',text)\n",
        "phone.group()"
      ],
      "metadata": {
        "colab": {
          "base_uri": "https://localhost:8080/",
          "height": 36
        },
        "id": "chBNziFFFo-L",
        "outputId": "ad2c5742-98d7-4fb7-b8d1-db9f4c1fb7cf"
      },
      "execution_count": null,
      "outputs": [
        {
          "output_type": "execute_result",
          "data": {
            "text/plain": [
              "'586-986-9965'"
            ],
            "application/vnd.google.colaboratory.intrinsic+json": {
              "type": "string"
            }
          },
          "metadata": {},
          "execution_count": 35
        }
      ]
    },
    {
      "cell_type": "code",
      "source": [
        "re.search(r'\\d{3}-\\d{3}-\\d{4}',text)"
      ],
      "metadata": {
        "colab": {
          "base_uri": "https://localhost:8080/"
        },
        "id": "l2jl4a5AFqkk",
        "outputId": "506303c9-3da3-4015-eaf7-bda7d5b5e997"
      },
      "execution_count": null,
      "outputs": [
        {
          "output_type": "execute_result",
          "data": {
            "text/plain": [
              "<re.Match object; span=(13, 25), match='586-986-9965'>"
            ]
          },
          "metadata": {},
          "execution_count": 36
        }
      ]
    },
    {
      "cell_type": "code",
      "source": [
        "phone_pattern =(r'(\\d{3})-(\\d{3})-(\\d{4})')\n",
        "results = re.search(phone_pattern,text)\n",
        "results.group()"
      ],
      "metadata": {
        "colab": {
          "base_uri": "https://localhost:8080/",
          "height": 36
        },
        "id": "4Hfx2Qf-FrqB",
        "outputId": "f7962b7f-6ad2-44df-b3b5-ebdf662016ec"
      },
      "execution_count": null,
      "outputs": [
        {
          "output_type": "execute_result",
          "data": {
            "text/plain": [
              "'586-986-9965'"
            ],
            "application/vnd.google.colaboratory.intrinsic+json": {
              "type": "string"
            }
          },
          "metadata": {},
          "execution_count": 37
        }
      ]
    },
    {
      "cell_type": "code",
      "source": [
        "results.group(1), results.group(2) , results.group(3)"
      ],
      "metadata": {
        "colab": {
          "base_uri": "https://localhost:8080/"
        },
        "id": "jWIxxnxKFspU",
        "outputId": "977fa71d-8076-479f-cb19-1ef0ae11a3b8"
      },
      "execution_count": null,
      "outputs": [
        {
          "output_type": "execute_result",
          "data": {
            "text/plain": [
              "('586', '986', '9965')"
            ]
          },
          "metadata": {},
          "execution_count": 38
        }
      ]
    },
    {
      "cell_type": "code",
      "source": [
        "text1 = \"ذهب محمد الي الجامعة\"\n",
        "text2 = \"استيقظت مني من النوم\"\n",
        "re.search(r\"محمد|مني\",text1)"
      ],
      "metadata": {
        "colab": {
          "base_uri": "https://localhost:8080/"
        },
        "id": "lKBkHHWGFtkD",
        "outputId": "ce53d760-66a3-44a8-aedc-56be5ca84473"
      },
      "execution_count": null,
      "outputs": [
        {
          "output_type": "execute_result",
          "data": {
            "text/plain": [
              "<re.Match object; span=(4, 8), match='محمد'>"
            ]
          },
          "metadata": {},
          "execution_count": 39
        }
      ]
    },
    {
      "cell_type": "code",
      "source": [
        "re.search(r\"محمد|مني\",text2)"
      ],
      "metadata": {
        "colab": {
          "base_uri": "https://localhost:8080/"
        },
        "id": "5fufEvnqFvML",
        "outputId": "014462eb-4049-4ccd-bcdd-86c5517e3e12"
      },
      "execution_count": null,
      "outputs": [
        {
          "output_type": "execute_result",
          "data": {
            "text/plain": [
              "<re.Match object; span=(8, 11), match='مني'>"
            ]
          },
          "metadata": {},
          "execution_count": 40
        }
      ]
    },
    {
      "cell_type": "code",
      "source": [
        "text1 = 'ذهبت الطالبات لحضور عدد من المحاضرات في جامعاتهن'\n",
        "re.findall(r\".ات\",text1)"
      ],
      "metadata": {
        "colab": {
          "base_uri": "https://localhost:8080/"
        },
        "id": "XDsVVU6eFwrj",
        "outputId": "b320a361-f2f3-482c-dc0e-96f104f0c70c"
      },
      "execution_count": null,
      "outputs": [
        {
          "output_type": "execute_result",
          "data": {
            "text/plain": [
              "['بات', 'رات', 'عات']"
            ]
          },
          "metadata": {},
          "execution_count": 41
        }
      ]
    },
    {
      "cell_type": "code",
      "source": [
        "text1 = 'ذهبت الطالبات لحضور عدد من المحاضرات في جامعاتهن'\n",
        "re.findall(r\"..ات\",text1)"
      ],
      "metadata": {
        "colab": {
          "base_uri": "https://localhost:8080/"
        },
        "id": "LE_P1sBsFymr",
        "outputId": "467f0ad5-9253-484e-d232-56993e9fd9f8"
      },
      "execution_count": null,
      "outputs": [
        {
          "output_type": "execute_result",
          "data": {
            "text/plain": [
              "['لبات', 'ضرات', 'معات']"
            ]
          },
          "metadata": {},
          "execution_count": 42
        }
      ]
    },
    {
      "cell_type": "code",
      "source": [
        "text1 = 'ذهبت الطالبات لحضور عدد من المحاضرات في جامعاتهن'\n",
        "re.findall(r\"\\S+ات\",text1)"
      ],
      "metadata": {
        "colab": {
          "base_uri": "https://localhost:8080/"
        },
        "id": "v-6trz-_FzxT",
        "outputId": "17ae1a53-28c5-402c-f2a1-3696951b9bdb"
      },
      "execution_count": null,
      "outputs": [
        {
          "output_type": "execute_result",
          "data": {
            "text/plain": [
              "['الطالبات', 'المحاضرات', 'جامعات']"
            ]
          },
          "metadata": {},
          "execution_count": 43
        }
      ]
    },
    {
      "cell_type": "code",
      "source": [
        "phrase = 'قاد جورج مسافة 50 كيلو متر  من الساعة 8 الي الساعة 10'\n",
        "re.findall(r'[^\\d]+',phrase)"
      ],
      "metadata": {
        "colab": {
          "base_uri": "https://localhost:8080/"
        },
        "id": "d5QGVoO9F1Y7",
        "outputId": "71d8491a-6932-4901-c8c1-fce1c76fb760"
      },
      "execution_count": null,
      "outputs": [
        {
          "output_type": "execute_result",
          "data": {
            "text/plain": [
              "['قاد جورج مسافة ', ' كيلو متر  من الساعة ', ' الي الساعة ']"
            ]
          },
          "metadata": {},
          "execution_count": 44
        }
      ]
    },
    {
      "cell_type": "code",
      "source": [
        "test_phrase = ' ماذا ؟ ؟  كيف تجرؤ !! , هل تتخيل عاقبة هذا الأمر ؟ ؟  , ويل له . '\n",
        "text = ' '.join(re.findall(\"[^؟,!.]+\", test_phrase))\n",
        "print(text)\n",
        "print(re.sub(\"\\s+\",' ', text))\n",
        "\n",
        "# ' '.join(text.strip())\n",
        "# re.findall('[^؟,!. ]+',test_phrase)"
      ],
      "metadata": {
        "colab": {
          "base_uri": "https://localhost:8080/"
        },
        "id": "CrWhWc71F2Wj",
        "outputId": "ef04a1e1-f25b-4094-f2ac-4202732750f9"
      },
      "execution_count": null,
      "outputs": [
        {
          "output_type": "stream",
          "name": "stdout",
          "text": [
            " ماذا      كيف تجرؤ     هل تتخيل عاقبة هذا الأمر        ويل له   \n",
            " ماذا كيف تجرؤ هل تتخيل عاقبة هذا الأمر ويل له \n"
          ]
        }
      ]
    },
    {
      "cell_type": "code",
      "source": [
        "clean = ' '.join(re.findall('[^؟,!. ]+',test_phrase))\n",
        "print(clean)"
      ],
      "metadata": {
        "colab": {
          "base_uri": "https://localhost:8080/"
        },
        "id": "e7RRYFp0F3bT",
        "outputId": "443ddb2e-6a67-4657-8fad-16a7b7c03b0b"
      },
      "execution_count": null,
      "outputs": [
        {
          "output_type": "stream",
          "name": "stdout",
          "text": [
            "ماذا كيف تجرؤ هل تتخيل عاقبة هذا الأمر ويل له\n"
          ]
        }
      ]
    },
    {
      "cell_type": "code",
      "source": [
        "text = 'ذهبت الي مدينة نيو-يورك ,  و منها الي سان-فرانسيسكو'\n",
        "\n",
        "# re.findall(r'[\\w]+-[\\w]+',text)\n",
        "re.findall(r\"\\w+-\\w+\",text)"
      ],
      "metadata": {
        "id": "OYGYi-4BF43j"
      },
      "execution_count": null,
      "outputs": []
    },
    {
      "cell_type": "code",
      "source": [],
      "metadata": {
        "id": "CPo3IBTwF6Tj",
        "outputId": "087467a3-c8f2-4c33-a229-48530a175ea6",
        "colab": {
          "base_uri": "https://localhost:8080/"
        }
      },
      "execution_count": null,
      "outputs": [
        {
          "output_type": "execute_result",
          "data": {
            "text/plain": [
              "['نيو-يورك', 'سان-فرانسيسكو']"
            ]
          },
          "metadata": {},
          "execution_count": 68
        }
      ]
    },
    {
      "cell_type": "code",
      "source": [],
      "metadata": {
        "id": "M938TOsk3iLH"
      },
      "execution_count": null,
      "outputs": []
    }
  ]
}